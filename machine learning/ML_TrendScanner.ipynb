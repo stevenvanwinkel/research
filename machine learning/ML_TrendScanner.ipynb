{
 "cells": [
  {
   "cell_type": "markdown",
   "id": "81d986b0",
   "metadata": {},
   "source": [
    "In this notebook we will try to implement a simple Machine Learning based strategy to forecast and trade an S&P 500 ETF. <br>\n",
    "This is a first attempt at implementing a strategy. <br>\n",
    "The strategy uses a set of very simple technical features, permutation as a feature selection algorithm and an optuna-based hyper parameter optimization. <br>\n",
    "\n",
    "\n",
    "The strategy is based on the following steps: <br>\n",
    "    - Defining a target variable: using trend scanner<br>\n",
    "    - Feature generation<br>\n",
    "    - Hyperparameter tuning<br>\n",
    "\n",
    "Ideas for next projects:<br>\n",
    "    - Grouping of features<br>\n",
    "    - Rigorous feature selection in walk-forward <br>"
   ]
  },
  {
   "cell_type": "code",
   "execution_count": 2,
   "id": "757438c5",
   "metadata": {},
   "outputs": [
    {
     "data": {
      "text/html": [
       "<style>.container { width:98% !important; }</style>"
      ],
      "text/plain": [
       "<IPython.core.display.HTML object>"
      ]
     },
     "metadata": {},
     "output_type": "display_data"
    }
   ],
   "source": [
    "import numpy as np\n",
    "import pandas as pd\n",
    "import statsmodels.api as sm\n",
    "import time\n",
    "import yfinance as yf\n",
    "import lightgbm as lgb\n",
    "import matplotlib.pyplot as plt\n",
    "%matplotlib inline\n",
    "from pandas.plotting import register_matplotlib_converters\n",
    "register_matplotlib_converters()\n",
    "from dateutil.relativedelta import relativedelta\n",
    "\n",
    "from sklearn.model_selection import KFold\n",
    "from sklearn.metrics import (accuracy_score, f1_score, confusion_matrix, make_scorer, roc_curve, \n",
    "                             auc, average_precision_score, roc_auc_score, mean_squared_error)\n",
    "\n",
    "from IPython.display import display, HTML\n",
    "display(HTML(\"<style>.container { width:98% !important; }</style>\"))"
   ]
  },
  {
   "cell_type": "markdown",
   "id": "06793a74",
   "metadata": {},
   "source": [
    "## Settings"
   ]
  },
  {
   "cell_type": "code",
   "execution_count": 3,
   "id": "90833d47",
   "metadata": {},
   "outputs": [],
   "source": [
    "settings = {\n",
    "    'symbol': 'SPY',\n",
    "    'trend_scanner': {'min': 5, 'max': 30}, # we look for the most signifiant trend between the next 5 and 30 days. Setting minimum value avoids noisy signals\n",
    "} "
   ]
  },
  {
   "cell_type": "markdown",
   "id": "c5fc0702",
   "metadata": {},
   "source": [
    "## Data"
   ]
  },
  {
   "cell_type": "code",
   "execution_count": 4,
   "id": "a22edb16",
   "metadata": {},
   "outputs": [],
   "source": [
    "def get_data(ticker):\n",
    "    data = ticker.history(period='max')\n",
    "    return data"
   ]
  },
  {
   "cell_type": "code",
   "execution_count": 5,
   "id": "6eb49a56",
   "metadata": {},
   "outputs": [],
   "source": [
    "ticker = yf.Ticker(settings['symbol'])\n",
    "df = get_data(ticker)\n",
    "df.index = pd.to_datetime(df.index).date\n",
    "df = df[['Open', 'High', 'Low', 'Close', 'Volume']]"
   ]
  },
  {
   "cell_type": "markdown",
   "id": "fff2675a",
   "metadata": {},
   "source": [
    "## Label"
   ]
  },
  {
   "cell_type": "code",
   "execution_count": 6,
   "id": "adfedf06",
   "metadata": {},
   "outputs": [],
   "source": [
    "def runTrendScanner(prices, min_duration=5):\n",
    "    \"\"\"\n",
    "    Trend Scanner (Numpy Version)\n",
    "    \n",
    "    prices is a slice of a numpy array, or Series.values\n",
    "    min is the minimal trend duration in steps (i.e. days)\n",
    "    returns most significant t-value\n",
    "    \n",
    "    r = [runTrendScanner(df_index['close'][i:i+70].values, min_duration=settings['trend_scanner']['min']) for i in range(len(df_index))]\n",
    "    \n",
    "    See MLdP ML for Asset Managers p67 (description)    \n",
    "    \"\"\"\n",
    "    t_value_abs, t_value = 0, -np.inf\n",
    "    \n",
    "    for end in range(min_duration, len(prices)):      \n",
    "        Y = prices[:end]\n",
    "        X = np.arange(0, end)\n",
    "        \n",
    "        X = sm.add_constant(X)\n",
    "        est = sm.OLS(Y, X).fit()\n",
    "        \n",
    "        _t_val = est.tvalues[1]\n",
    "        \n",
    "        if abs(_t_val) > t_value_abs:\n",
    "            t_value_abs = abs(_t_val)\n",
    "            t_value = _t_val\n",
    "    \n",
    "    return t_value"
   ]
  },
  {
   "cell_type": "code",
   "execution_count": 7,
   "id": "abe7e785",
   "metadata": {},
   "outputs": [],
   "source": [
    "r = [runTrendScanner(df['Close'][i:i+settings['trend_scanner']['max']].values, min_duration=settings['trend_scanner']['min']) for i in range(len(df))]"
   ]
  },
  {
   "cell_type": "code",
   "execution_count": 8,
   "id": "81e9d20c",
   "metadata": {},
   "outputs": [],
   "source": [
    "df_tmp = pd.DataFrame(r, columns=['t_value'], index = df.index)\n",
    "df_tmp.replace([np.inf, -np.inf], np.nan, inplace=True)\n"
   ]
  },
  {
   "cell_type": "markdown",
   "id": "5619c1f8",
   "metadata": {},
   "source": [
    "### Plot learning variable"
   ]
  },
  {
   "cell_type": "code",
   "execution_count": 9,
   "id": "5dd079e8",
   "metadata": {},
   "outputs": [],
   "source": [
    "label2color = {\n",
    "    1: 'green',\n",
    "    -1: 'red',\n",
    "    0: 'blue'}\n",
    "\n",
    "def gen_repeating(s):\n",
    "    i = 0\n",
    "    while i < len(s):\n",
    "        j = i\n",
    "        while j < len(s) and s[j] == s[i]:\n",
    "            j += 1\n",
    "\n",
    "        yield (s[i], i, j - 1)\n",
    "        i = j"
   ]
  },
  {
   "cell_type": "code",
   "execution_count": 10,
   "id": "41f8acd7",
   "metadata": {},
   "outputs": [],
   "source": [
    "def plotTrendScanning():\n",
    "    df['color'] = df['side'].apply(lambda label: label2color[label])\n",
    "\n",
    "    fig, ax = plt.subplots(nrows = 2, figsize = (12,6))\n",
    "    \n",
    "    for color, start, end in gen_repeating(df['color']):\n",
    "        if start > 0:\n",
    "            start -= 1\n",
    "        idx = df.index[start:end + 1]\n",
    "        ax[0].plot(df.loc[idx, 'date'], df.loc[idx, 'Close'], linewidth=1, color=color)\n",
    "\n",
    "    ax[0].grid(True)\n",
    "    df.side.value_counts()\n",
    "        \n",
    "    tsmin = settings['trend_scanner']['min']\n",
    "    tsmax = settings['trend_scanner']['max']\n",
    "    symbol = settings['symbol']\n",
    "    \n",
    "    figtitle = f'Trend Scanning for {symbol} between {tsmin} and {tsmax} days'\n",
    "    ax[0].set_title(figtitle)\n",
    "    ax[1].plot(df_tmp.index, df_tmp['t_value'])\n",
    "    ax[1].set_title('Trend Scanner')\n"
   ]
  },
  {
   "cell_type": "code",
   "execution_count": 11,
   "id": "11a55efd",
   "metadata": {},
   "outputs": [],
   "source": [
    "df['t_value_abs'] = abs(df_tmp['t_value'])\n",
    "df['t_value'] = df_tmp['t_value']\n",
    "df['date'] = df.index\n",
    "\n",
    "df['side'] = np.nan\n",
    "tau = 0\n",
    "df.loc[df.t_value >=  tau, 'side'] = 1\n",
    "df.loc[df.t_value < -tau, 'side'] = -1\n",
    "df.dropna(axis=0, inplace=True)"
   ]
  },
  {
   "cell_type": "code",
   "execution_count": 12,
   "id": "99bda986",
   "metadata": {},
   "outputs": [
    {
     "data": {
      "image/png": "[encoded data removed]",
      "text/plain": [
       "<Figure size 1200x600 with 2 Axes>"
      ]
     },
     "metadata": {},
     "output_type": "display_data"
    }
   ],
   "source": [
    "plotTrendScanning()"
   ]
  },
  {
   "cell_type": "markdown",
   "id": "df9a94ba",
   "metadata": {},
   "source": [
    "## Features"
   ]
  },
  {
   "cell_type": "code",
   "execution_count": 13,
   "id": "183093aa",
   "metadata": {},
   "outputs": [],
   "source": [
    "lookbacks = [5, 10, 20, 30, 60, 90, 120, 150, 180, 210, 240]"
   ]
  },
  {
   "cell_type": "code",
   "execution_count": 14,
   "id": "8d93d7f9",
   "metadata": {},
   "outputs": [],
   "source": [
    "def volatility(lookback):\n",
    "    log_ret = np.log(df['Close']).diff()\n",
    "    vol = log_ret.ewm(span=lookback).std() * np.sqrt(252)\n",
    "    return vol.rename(f'vol_{lookback}', inplace=True)\n",
    "\n",
    "def sharpe(lookback):\n",
    "    sr = df['Close'].pct_change().rolling(lookback).mean() / volatility(lookback)\n",
    "    return sr.rename(f'sr_{lookback}', inplace=True)\n",
    "\n",
    "def rsi(lookback):\n",
    "    rrsi = 100 - 100 / (1 + df['Close'].pct_change().rolling(lookback).apply(lambda x: x[x > 0].mean() / -x[x < 0].mean()))\n",
    "    return rrsi.rename(f'rsi_{lookback}', inplace=True)\n",
    "\n",
    "def momentum(lookback):\n",
    "    mom = df['Close'].pct_change(lookback)\n",
    "    return mom.rename(f'mom_{lookback}', inplace=True)\n",
    "\n",
    "def trend(lookback):\n",
    "    ttrend = df['Close'].pct_change().rolling(lookback).apply(lambda x: x[x > 0].sum() / len(x))\n",
    "    return ttrend.rename(f'trend_{lookback}', inplace=True)\n",
    "\n",
    "def dist_ma(lookback):\n",
    "    dma = df['Close']/(df['Close'].rolling(window=lookback).mean())-1\n",
    "    \n",
    "def auto_correlation(lookback):\n",
    "    log_ret = np.log(df['Close']).diff()\n",
    "    ac = log_ret.rolling(window=lookback, min_periods=1, center=False).apply(lambda x: x.autocorr(lag=1), raw=False)\n",
    "    return ac.rename(f'ac_{lookback}', inplace=True)\n",
    "\n",
    "def cum_prod(lookback):\n",
    "    log_ret = np.log(df['Close']).diff()\n",
    "    cp = np.exp(np.log(log_ret+1).rolling(lookback).sum())-1\n",
    "    return cp.rename(f'cp_{lookback}', inplace=True)\n",
    "    \n",
    "def talib_features():\n",
    "    import talib\n",
    "    df_talib = pd.DataFrame()\n",
    "    df_talib['feat_RSI'] = talib.RSI(df.Close, timeperiod=14)\n",
    "\n",
    "    df_talib['feat_HT_DCPERIOD'] = talib.HT_DCPERIOD(df.Close)\n",
    "    df_talib['feat_HT_DCPHASE'] = talib.HT_DCPHASE(df.Close)\n",
    "    df_talib['feat_MACD'] =  talib.MACD(df.Close, fastperiod=12, slowperiod=26, signalperiod=9)[0]\n",
    "    df_talib['feat_ROC'] =  talib.ROC(df.Close, timeperiod=10)\n",
    "    df_talib['feat_PPO'] = talib.PPO(df.Close, fastperiod=12, slowperiod=26, matype=0)\n",
    "    \n",
    "    if 'Volume' in index_fields:\n",
    "        df_talib['feat_OBV'] = talib.OBV(df.Close, df.Volume)\n",
    "    \n",
    "    if 'High' in index_fields and 'Low' in index_fields:\n",
    "        df_talib['feat_stochk'] = talib.STOCHF(df.High, df.Low, df.Close, \n",
    "                                            fastk_period=5, fastd_period=3, fastd_matype=0)[0]\n",
    "        df_talib['feat_stochd'] = talib.STOCHF(df.High, df.Low, df.Close, \n",
    "                                            fastk_period=5, fastd_period=3, fastd_matype=0)[1]\n",
    "        df_talib['feat_stochrsik'] = talib.STOCHRSI(df.Close, timeperiod=14, fastk_period=5, fastd_period=3, fastd_matype=0)[0]\n",
    "        df_talib['feat_stochrsid'] = talib.STOCHRSI(df.Close, timeperiod=14, fastk_period=5, fastd_period=3, fastd_matype=0)[1]\n",
    "\n",
    "        df_talib['feat_ADX'] = talib.ADX(df.High, df.Low, df.Close, timeperiod=14)\n",
    "        df_talib['feat_ATR'] = talib.ATR(df.High, df.Low, df.Close, timeperiod=14)\n",
    "        df_talib['feat_CCI'] = talib.CCI(df.High, df.Low, df.Close, timeperiod=14)\n",
    "        df_talib['feat_WILLR'] = talib.WILLR(df.High, df.Low, df.Close, timeperiod=14)\n",
    "        \n",
    "    return df_talib\n",
    "\n",
    "def all_features(lookback):\n",
    "    df_feat = pd.DataFrame()\n",
    "    df_feat = pd.concat([volatility(lookback), \n",
    "                         sharpe(lookback),\n",
    "                         rsi(lookback),\n",
    "                         momentum(lookback),\n",
    "                         trend(lookback),\n",
    "                         dist_ma(lookback),\n",
    "                         auto_correlation(lookback),\n",
    "                         cum_prod(lookback)\n",
    "                         ], \n",
    "                        axis=1)\n",
    "    return df_feat"
   ]
  },
  {
   "cell_type": "code",
   "execution_count": 15,
   "id": "03b0f85f",
   "metadata": {},
   "outputs": [
    {
     "name": "stderr",
     "output_type": "stream",
     "text": [
      "c:\\Users\\vwste\\anaconda3\\Lib\\site-packages\\numpy\\lib\\function_base.py:2846: RuntimeWarning: Degrees of freedom <= 0 for slice\n",
      "  c = cov(x, y, rowvar, dtype=dtype)\n",
      "c:\\Users\\vwste\\anaconda3\\Lib\\site-packages\\numpy\\lib\\function_base.py:2846: RuntimeWarning: Degrees of freedom <= 0 for slice\n",
      "  c = cov(x, y, rowvar, dtype=dtype)\n",
      "c:\\Users\\vwste\\anaconda3\\Lib\\site-packages\\numpy\\lib\\function_base.py:2846: RuntimeWarning: Degrees of freedom <= 0 for slice\n",
      "  c = cov(x, y, rowvar, dtype=dtype)\n",
      "c:\\Users\\vwste\\anaconda3\\Lib\\site-packages\\numpy\\lib\\function_base.py:2846: RuntimeWarning: Degrees of freedom <= 0 for slice\n",
      "  c = cov(x, y, rowvar, dtype=dtype)\n",
      "c:\\Users\\vwste\\anaconda3\\Lib\\site-packages\\numpy\\lib\\function_base.py:2846: RuntimeWarning: Degrees of freedom <= 0 for slice\n",
      "  c = cov(x, y, rowvar, dtype=dtype)\n",
      "c:\\Users\\vwste\\anaconda3\\Lib\\site-packages\\numpy\\lib\\function_base.py:2846: RuntimeWarning: Degrees of freedom <= 0 for slice\n",
      "  c = cov(x, y, rowvar, dtype=dtype)\n",
      "c:\\Users\\vwste\\anaconda3\\Lib\\site-packages\\numpy\\lib\\function_base.py:2846: RuntimeWarning: Degrees of freedom <= 0 for slice\n",
      "  c = cov(x, y, rowvar, dtype=dtype)\n",
      "c:\\Users\\vwste\\anaconda3\\Lib\\site-packages\\numpy\\lib\\function_base.py:2846: RuntimeWarning: Degrees of freedom <= 0 for slice\n",
      "  c = cov(x, y, rowvar, dtype=dtype)\n",
      "c:\\Users\\vwste\\anaconda3\\Lib\\site-packages\\numpy\\lib\\function_base.py:2846: RuntimeWarning: Degrees of freedom <= 0 for slice\n",
      "  c = cov(x, y, rowvar, dtype=dtype)\n",
      "c:\\Users\\vwste\\anaconda3\\Lib\\site-packages\\numpy\\lib\\function_base.py:2846: RuntimeWarning: Degrees of freedom <= 0 for slice\n",
      "  c = cov(x, y, rowvar, dtype=dtype)\n",
      "c:\\Users\\vwste\\anaconda3\\Lib\\site-packages\\numpy\\lib\\function_base.py:2846: RuntimeWarning: Degrees of freedom <= 0 for slice\n",
      "  c = cov(x, y, rowvar, dtype=dtype)\n"
     ]
    }
   ],
   "source": [
    "df_features = pd.DataFrame(index=df.index)\n",
    "\n",
    "for lookback in lookbacks:\n",
    "    df_features = pd.concat([df_features, all_features(lookback)], axis=1)"
   ]
  },
  {
   "cell_type": "code",
   "execution_count": 16,
   "id": "0385cf62",
   "metadata": {},
   "outputs": [],
   "source": [
    "import_talib_features = False\n",
    "if import_talib_features:\n",
    "    talib_features = talib_features()\n",
    "    df_features = pd.concat([df_features, talib_features], axis=1)"
   ]
  },
  {
   "cell_type": "code",
   "execution_count": 17,
   "id": "7e74194b",
   "metadata": {},
   "outputs": [],
   "source": [
    "df_features = df_features.shift(1) # we shift the features by one day to avoid look-ahead bias\n",
    "df_features = df_features.dropna(axis=0)"
   ]
  },
  {
   "cell_type": "code",
   "execution_count": 18,
   "id": "dd1bec85",
   "metadata": {},
   "outputs": [],
   "source": [
    "from sklearn.metrics import log_loss, accuracy_score, f1_score, recall_score, precision_score, precision_recall_curve, roc_curve, roc_auc_score, auc, matthews_corrcoef\n",
    "def evaluate(model, X, y, method, sample_weight=None, labels=None, pos_idx=None):\n",
    "    \"\"\"\n",
    "    Calculate score\n",
    "    \n",
    "    Params\n",
    "    ------\n",
    "    model: Trained classifier instance\n",
    "    X: array-like, Input feature\n",
    "    y: array-like, Label\n",
    "    method: str\n",
    "        The name of scoring methods. 'precision', 'recall', 'f1', 'precision_recall',\n",
    "        'roc', 'accuracy' or 'neg_log_loss'\n",
    "    labels: array-like, optional\n",
    "        The name of labels\n",
    "        \n",
    "    Returns\n",
    "    -------\n",
    "    list of scores\n",
    "    \"\"\"\n",
    "    \n",
    "    if pos_idx is not None:\n",
    "        pos_idx = np.where(np.array(labels) == 1)[0][0]\n",
    "    \n",
    "    if method == 'f1':\n",
    "        pred = model.predict(X)\n",
    "        score = f1_score(y, pred, sample_weight=sample_weight, labels=labels)\n",
    "\n",
    "    elif method == 'neg_log_loss':\n",
    "        prob = model.predict_proba(X)\n",
    "        score = -log_loss(y, prob, sample_weight=sample_weight, labels=labels)\n",
    "\n",
    "    elif method == 'precision':\n",
    "        pred = model.predict(X)\n",
    "        score = precision_score(y, pred, sample_weight=sample_weight)\n",
    "    \n",
    "    elif method == 'recall':\n",
    "        pred = model.predict(X)\n",
    "        score = recall_score(y, pred, sample_weight=sample_weight)\n",
    "    \n",
    "    elif method == 'precision_recall':\n",
    "        prob = model.predict_proba(X)[:, pos_idx]\n",
    "        score = precision_recall_curve(y, prob, sample_weight=sample_weight)\n",
    "    \n",
    "    elif method == 'roc':\n",
    "        prob = model.predict_proba(X)[:, pos_idx]\n",
    "        score = roc_curve(y, prob, sample_weight=sample_weight)\n",
    "    \n",
    "    elif method == 'roc_auc_score':\n",
    "        prob = model.predict_proba(X)[:, 1]\n",
    "        score = roc_auc_score(y, prob, sample_weight=sample_weight)\n",
    "    \n",
    "    elif method == 'accuracy':\n",
    "        pred = model.predict(X)\n",
    "        score = accuracy_score(y, pred, sample_weight=sample_weight)\n",
    "    \n",
    "    else:\n",
    "        raise Exception(f'No Implementation method={method}')\n",
    "    \n",
    "    return score"
   ]
  },
  {
   "cell_type": "code",
   "execution_count": 19,
   "id": "a095a8b0",
   "metadata": {},
   "outputs": [],
   "source": [
    "\"\"\"Permutation importance for estimators\"\"\"\n",
    "# Adapted from scikit-learn permutation importance\n",
    "\n",
    "from joblib import Parallel\n",
    "from joblib import delayed\n",
    "\n",
    "from sklearn.utils import check_random_state\n",
    "from sklearn.utils import check_array\n",
    "\n",
    "def _calculate_permutation_scores(estimator, X, y, sample_weight, col_idx, random_state,\n",
    "                                  n_repeats, scorer):\n",
    "    \"\"\"Calculate score when `col_idx` is permuted.\"\"\"\n",
    "    random_state = check_random_state(random_state)\n",
    "    \n",
    "    #print(col_idx)\n",
    "\n",
    "    X_permuted = X.copy()\n",
    "    scores = np.zeros(n_repeats)\n",
    "    shuffling_idx = np.arange(X.shape[0])\n",
    "    for n_round in range(n_repeats):\n",
    "        random_state.shuffle(shuffling_idx)\n",
    "        if hasattr(X_permuted, \"iloc\"):\n",
    "            col = X_permuted.iloc[shuffling_idx, col_idx]\n",
    "            col.index = X_permuted.index\n",
    "            X_permuted.iloc[:, col_idx] = col\n",
    "        else:\n",
    "            X_permuted[:, col_idx] = X_permuted[shuffling_idx, col_idx]\n",
    "        feature_score = evaluate(estimator, X_permuted, y, scorer, sample_weight)\n",
    "        scores[n_round] = feature_score\n",
    "\n",
    "    return scores\n",
    "\n",
    "def permutation_importance(clf, X, y, i, train, test, scoring=None, n_repeats=5,\n",
    "                           n_jobs=None, random_state=None):\n",
    "    print(f'Permutation Importance Fold {i}')\n",
    "        \n",
    "    if not hasattr(X, \"iloc\"):\n",
    "        X = check_array(X, force_all_finite='allow-nan', dtype=None)\n",
    "        \n",
    "    X0,y0=X.iloc[train,:],y.iloc[train]\n",
    "    X1,y1=X.iloc[test,:],y.iloc[test]\n",
    "    w0,w1 = None, None\n",
    "    \n",
    "    estimator = clf.fit(X0, y0)\n",
    "\n",
    "    random_state = check_random_state(random_state)\n",
    "    random_seed = random_state.randint(np.iinfo(np.int32).max + 1)\n",
    "       \n",
    "    baseline_score = evaluate(estimator, X1, y1, scoring)\n",
    "    \n",
    "    scores = Parallel(n_jobs=n_jobs)(delayed(_calculate_permutation_scores)(\n",
    "        estimator, X1, y1, w1, col_idx, random_seed, n_repeats, scoring\n",
    "    ) for col_idx in range(X.shape[1]))\n",
    "   \n",
    "    scr1 = np.mean(scores,axis=1)\n",
    "    scr0 = baseline_score\n",
    "    del scores\n",
    "    return i, scr0, scr1"
   ]
  },
  {
   "cell_type": "code",
   "execution_count": 20,
   "id": "c0157af3",
   "metadata": {},
   "outputs": [],
   "source": [
    "## Initial test\n",
    "# create test and validation set for feature selection\n",
    "from sklearn.model_selection import train_test_split\n",
    "\n",
    "y = df['side']\n",
    "X = df_features.copy()\n",
    "X = X[y.first_valid_index():y.last_valid_index()]\n",
    "y = y[X.index]\n",
    "\n",
    "X_train, X_test, y_train, y_test = train_test_split(X, y, test_size=0.1, shuffle=False)"
   ]
  },
  {
   "cell_type": "markdown",
   "id": "f580bdb6",
   "metadata": {},
   "source": [
    "## Hyperoptimization using Optuna"
   ]
  },
  {
   "cell_type": "code",
   "execution_count": 21,
   "id": "f28dec34",
   "metadata": {},
   "outputs": [],
   "source": [
    "from sklearn.model_selection import TimeSeriesSplit\n",
    "def objective(trial, X, y, n_splits=5):\n",
    "\n",
    "    param_grid = {\n",
    "        \"n_estimators\": trial.suggest_int(\"n_estimators\", 100, 1000, step=100),\n",
    "        \"learning_rate\": trial.suggest_float(\"learning_rate\", 0.01, 0.5),\n",
    "        \"max_depth\": trial.suggest_int(\"max_depth\", 2, 8),\n",
    "        \"subsample\": trial.suggest_float(\"subsample\", 0.5, 0.9, step=0.1),\n",
    "        \"bagging_fraction\": trial.suggest_float(\"bagging_fraction\", 0.6, 0.8, step=0.1),\n",
    "        \"feature_fraction\": trial.suggest_float(\"feature_fraction\", 0.5, 0.9, step=0.1),\n",
    "    }\n",
    "    \n",
    "    cv = TimeSeriesSplit(n_splits=n_splits, test_size=66)\n",
    "\n",
    "    cv_scores = np.empty(n_splits)\n",
    "    for idx, (train_idx, test_idx) in enumerate(cv.split(X, y)):\n",
    "        X_train, X_test = X.iloc[train_idx], X.iloc[test_idx]\n",
    "        y_train, y_test = y[train_idx], y[test_idx]\n",
    "        \n",
    "        model = lgb.LGBMClassifier(objective=\"binary\",verbose=-1, **param_grid)\n",
    "        model.fit(\n",
    "            X_train,\n",
    "            y_train,\n",
    "            eval_set=[(X_train, y_train), (X_test, y_test)],\n",
    "        )\n",
    "        \n",
    "        preds = model.predict(X_test)\n",
    "        cv_scores[idx] = accuracy_score(y_test, preds)\n",
    "\n",
    "    return np.median(cv_scores)"
   ]
  },
  {
   "cell_type": "code",
   "execution_count": 23,
   "id": "a1f60b56",
   "metadata": {},
   "outputs": [],
   "source": [
    "import optuna"
   ]
  },
  {
   "cell_type": "code",
   "execution_count": 24,
   "id": "30fc0bc7",
   "metadata": {},
   "outputs": [
    {
     "name": "stderr",
     "output_type": "stream",
     "text": [
      "[I 2023-12-19 12:09:34,879] A new study created in memory with name: LGBM\n"
     ]
    }
   ],
   "source": [
    "n_splits = 5 \n",
    "direction = 'maximize'\n",
    "study_name = 'LGBM'\n",
    "sampler = optuna.samplers.TPESampler(seed=24)\n",
    "study = optuna.create_study(direction=direction, study_name=study_name, sampler=sampler)\n",
    "func = lambda trial: objective(trial, X_train, y_train, n_splits)"
   ]
  },
  {
   "cell_type": "code",
   "execution_count": 25,
   "id": "4b7bddc8",
   "metadata": {},
   "outputs": [
    {
     "name": "stderr",
     "output_type": "stream",
     "text": [
      "c:\\Users\\vwste\\anaconda3\\Lib\\site-packages\\joblib\\externals\\loky\\backend\\context.py:110: UserWarning: Could not find the number of physical cores for the following reason:\n",
      "[WinError 2] The system cannot find the file specified\n",
      "Returning the number of logical cores instead. You can silence this warning by setting LOKY_MAX_CPU_COUNT to the number of cores you want to use.\n",
      "  warnings.warn(\n",
      "  File \"c:\\Users\\vwste\\anaconda3\\Lib\\site-packages\\joblib\\externals\\loky\\backend\\context.py\", line 199, in _count_physical_cores\n",
      "    cpu_info = subprocess.run(\n",
      "               ^^^^^^^^^^^^^^^\n",
      "  File \"c:\\Users\\vwste\\anaconda3\\Lib\\subprocess.py\", line 548, in run\n",
      "    with Popen(*popenargs, **kwargs) as process:\n",
      "         ^^^^^^^^^^^^^^^^^^^^^^^^^^^\n",
      "  File \"c:\\Users\\vwste\\anaconda3\\Lib\\subprocess.py\", line 1026, in __init__\n",
      "    self._execute_child(args, executable, preexec_fn, close_fds,\n",
      "  File \"c:\\Users\\vwste\\anaconda3\\Lib\\subprocess.py\", line 1538, in _execute_child\n",
      "    hp, ht, pid, tid = _winapi.CreateProcess(executable, args,\n",
      "                       ^^^^^^^^^^^^^^^^^^^^^^^^^^^^^^^^^^^^^^^\n",
      "[I 2023-12-19 12:10:06,416] Trial 0 finished with value: 0.7272727272727273 and parameters: {'n_estimators': 1000, 'learning_rate': 0.3527609044752923, 'max_depth': 8, 'subsample': 0.6, 'bagging_fraction': 0.7, 'feature_fraction': 0.8}. Best is trial 0 with value: 0.7272727272727273.\n",
      "[I 2023-12-19 12:10:14,161] Trial 1 finished with value: 0.5606060606060606 and parameters: {'n_estimators': 1000, 'learning_rate': 0.16501001911739813, 'max_depth': 2, 'subsample': 0.6, 'bagging_fraction': 0.6, 'feature_fraction': 0.6}. Best is trial 0 with value: 0.7272727272727273.\n",
      "[I 2023-12-19 12:10:30,124] Trial 2 finished with value: 0.6212121212121212 and parameters: {'n_estimators': 800, 'learning_rate': 0.451069790956453, 'max_depth': 5, 'subsample': 0.6, 'bagging_fraction': 0.8, 'feature_fraction': 0.7}. Best is trial 0 with value: 0.7272727272727273.\n",
      "[I 2023-12-19 12:10:43,849] Trial 3 finished with value: 0.7272727272727273 and parameters: {'n_estimators': 600, 'learning_rate': 0.44778932581050135, 'max_depth': 7, 'subsample': 0.6, 'bagging_fraction': 0.7, 'feature_fraction': 0.8}. Best is trial 0 with value: 0.7272727272727273.\n",
      "[I 2023-12-19 12:10:59,842] Trial 4 finished with value: 0.6515151515151515 and parameters: {'n_estimators': 1000, 'learning_rate': 0.447847904441173, 'max_depth': 8, 'subsample': 0.8, 'bagging_fraction': 0.7, 'feature_fraction': 0.6}. Best is trial 0 with value: 0.7272727272727273.\n",
      "[I 2023-12-19 12:11:14,065] Trial 5 finished with value: 0.6666666666666666 and parameters: {'n_estimators': 500, 'learning_rate': 0.40553745670032254, 'max_depth': 7, 'subsample': 0.7, 'bagging_fraction': 0.8, 'feature_fraction': 0.7}. Best is trial 0 with value: 0.7272727272727273.\n",
      "[I 2023-12-19 12:11:35,258] Trial 6 finished with value: 0.6515151515151515 and parameters: {'n_estimators': 900, 'learning_rate': 0.3136514199244752, 'max_depth': 8, 'subsample': 0.6, 'bagging_fraction': 0.7, 'feature_fraction': 0.8}. Best is trial 0 with value: 0.7272727272727273.\n",
      "[I 2023-12-19 12:11:40,280] Trial 7 finished with value: 0.6363636363636364 and parameters: {'n_estimators': 200, 'learning_rate': 0.07017125696070683, 'max_depth': 4, 'subsample': 0.7, 'bagging_fraction': 0.8, 'feature_fraction': 0.7}. Best is trial 0 with value: 0.7272727272727273.\n",
      "[I 2023-12-19 12:11:58,426] Trial 8 finished with value: 0.6363636363636364 and parameters: {'n_estimators': 800, 'learning_rate': 0.4977708304394621, 'max_depth': 8, 'subsample': 0.5, 'bagging_fraction': 0.8, 'feature_fraction': 0.9}. Best is trial 0 with value: 0.7272727272727273.\n",
      "[I 2023-12-19 12:12:15,329] Trial 9 finished with value: 0.6515151515151515 and parameters: {'n_estimators': 700, 'learning_rate': 0.05778708758848389, 'max_depth': 6, 'subsample': 0.9, 'bagging_fraction': 0.7, 'feature_fraction': 0.6}. Best is trial 0 with value: 0.7272727272727273.\n",
      "[I 2023-12-19 12:12:19,423] Trial 10 finished with value: 0.5909090909090909 and parameters: {'n_estimators': 300, 'learning_rate': 0.29856734113414707, 'max_depth': 3, 'subsample': 0.5, 'bagging_fraction': 0.6, 'feature_fraction': 0.9}. Best is trial 0 with value: 0.7272727272727273.\n",
      "[I 2023-12-19 12:12:33,569] Trial 11 finished with value: 0.6060606060606061 and parameters: {'n_estimators': 500, 'learning_rate': 0.36413888065157896, 'max_depth': 6, 'subsample': 0.6, 'bagging_fraction': 0.7, 'feature_fraction': 0.8}. Best is trial 0 with value: 0.7272727272727273.\n",
      "[I 2023-12-19 12:12:52,328] Trial 12 finished with value: 0.6363636363636364 and parameters: {'n_estimators': 600, 'learning_rate': 0.22073369765508447, 'max_depth': 7, 'subsample': 0.5, 'bagging_fraction': 0.6, 'feature_fraction': 0.8}. Best is trial 0 with value: 0.7272727272727273.\n",
      "[I 2023-12-19 12:12:55,849] Trial 13 finished with value: 0.6212121212121212 and parameters: {'n_estimators': 100, 'learning_rate': 0.35960139732280005, 'max_depth': 7, 'subsample': 0.8, 'bagging_fraction': 0.7, 'feature_fraction': 0.5}. Best is trial 0 with value: 0.7272727272727273.\n",
      "[I 2023-12-19 12:13:19,991] Trial 14 finished with value: 0.6363636363636364 and parameters: {'n_estimators': 600, 'learning_rate': 0.23025843111340605, 'max_depth': 6, 'subsample': 0.7, 'bagging_fraction': 0.7, 'feature_fraction': 0.8}. Best is trial 0 with value: 0.7272727272727273.\n",
      "[I 2023-12-19 12:13:35,962] Trial 15 finished with value: 0.5606060606060606 and parameters: {'n_estimators': 400, 'learning_rate': 0.38827480976483186, 'max_depth': 5, 'subsample': 0.6, 'bagging_fraction': 0.6, 'feature_fraction': 0.9}. Best is trial 0 with value: 0.7272727272727273.\n",
      "[I 2023-12-19 12:13:58,741] Trial 16 finished with value: 0.6212121212121212 and parameters: {'n_estimators': 800, 'learning_rate': 0.493555104760296, 'max_depth': 7, 'subsample': 0.8, 'bagging_fraction': 0.7, 'feature_fraction': 0.8}. Best is trial 0 with value: 0.7272727272727273.\n",
      "[I 2023-12-19 12:14:13,701] Trial 17 finished with value: 0.6060606060606061 and parameters: {'n_estimators': 400, 'learning_rate': 0.3056337430419543, 'max_depth': 8, 'subsample': 0.5, 'bagging_fraction': 0.6, 'feature_fraction': 0.9}. Best is trial 0 with value: 0.7272727272727273.\n",
      "[I 2023-12-19 12:14:32,651] Trial 18 finished with value: 0.6515151515151515 and parameters: {'n_estimators': 700, 'learning_rate': 0.15017699010488533, 'max_depth': 6, 'subsample': 0.6, 'bagging_fraction': 0.8, 'feature_fraction': 0.7}. Best is trial 0 with value: 0.7272727272727273.\n",
      "[I 2023-12-19 12:14:48,322] Trial 19 finished with value: 0.5454545454545454 and parameters: {'n_estimators': 900, 'learning_rate': 0.42377686722309826, 'max_depth': 4, 'subsample': 0.7, 'bagging_fraction': 0.7, 'feature_fraction': 0.8}. Best is trial 0 with value: 0.7272727272727273.\n",
      "[I 2023-12-19 12:15:11,061] Trial 20 finished with value: 0.6515151515151515 and parameters: {'n_estimators': 700, 'learning_rate': 0.35455797110646714, 'max_depth': 7, 'subsample': 0.9, 'bagging_fraction': 0.7, 'feature_fraction': 0.7}. Best is trial 0 with value: 0.7272727272727273.\n",
      "[I 2023-12-19 12:15:28,214] Trial 21 finished with value: 0.6818181818181818 and parameters: {'n_estimators': 500, 'learning_rate': 0.4076719824152927, 'max_depth': 7, 'subsample': 0.7, 'bagging_fraction': 0.8, 'feature_fraction': 0.7}. Best is trial 0 with value: 0.7272727272727273.\n",
      "[I 2023-12-19 12:15:45,110] Trial 22 finished with value: 0.7121212121212122 and parameters: {'n_estimators': 400, 'learning_rate': 0.4458531984759133, 'max_depth': 8, 'subsample': 0.7, 'bagging_fraction': 0.8, 'feature_fraction': 0.7}. Best is trial 0 with value: 0.7272727272727273.\n",
      "[I 2023-12-19 12:15:54,440] Trial 23 finished with value: 0.6515151515151515 and parameters: {'n_estimators': 300, 'learning_rate': 0.45952034369710765, 'max_depth': 8, 'subsample': 0.6, 'bagging_fraction': 0.8, 'feature_fraction': 0.8}. Best is trial 0 with value: 0.7272727272727273.\n",
      "[I 2023-12-19 12:16:17,787] Trial 24 finished with value: 0.6666666666666666 and parameters: {'n_estimators': 400, 'learning_rate': 0.33735330035390687, 'max_depth': 8, 'subsample': 0.8, 'bagging_fraction': 0.7, 'feature_fraction': 0.6}. Best is trial 0 with value: 0.7272727272727273.\n",
      "[I 2023-12-19 12:16:21,948] Trial 25 finished with value: 0.7121212121212122 and parameters: {'n_estimators': 100, 'learning_rate': 0.279531326927701, 'max_depth': 8, 'subsample': 0.7, 'bagging_fraction': 0.7, 'feature_fraction': 0.5}. Best is trial 0 with value: 0.7272727272727273.\n",
      "[I 2023-12-19 12:16:29,575] Trial 26 finished with value: 0.6666666666666666 and parameters: {'n_estimators': 300, 'learning_rate': 0.45634318150414177, 'max_depth': 5, 'subsample': 0.6, 'bagging_fraction': 0.8, 'feature_fraction': 0.8}. Best is trial 0 with value: 0.7272727272727273.\n",
      "[I 2023-12-19 12:16:46,890] Trial 27 finished with value: 0.7575757575757576 and parameters: {'n_estimators': 600, 'learning_rate': 0.3855938611994342, 'max_depth': 7, 'subsample': 0.5, 'bagging_fraction': 0.7, 'feature_fraction': 0.7}. Best is trial 27 with value: 0.7575757575757576.\n",
      "[I 2023-12-19 12:17:05,239] Trial 28 finished with value: 0.6363636363636364 and parameters: {'n_estimators': 600, 'learning_rate': 0.25989713235141537, 'max_depth': 6, 'subsample': 0.5, 'bagging_fraction': 0.7, 'feature_fraction': 0.9}. Best is trial 27 with value: 0.7575757575757576.\n",
      "[I 2023-12-19 12:17:28,087] Trial 29 finished with value: 0.7424242424242424 and parameters: {'n_estimators': 1000, 'learning_rate': 0.38195481761148187, 'max_depth': 7, 'subsample': 0.5, 'bagging_fraction': 0.6, 'feature_fraction': 0.7}. Best is trial 27 with value: 0.7575757575757576.\n",
      "[I 2023-12-19 12:17:36,540] Trial 30 finished with value: 0.6060606060606061 and parameters: {'n_estimators': 1000, 'learning_rate': 0.38110696778217923, 'max_depth': 3, 'subsample': 0.5, 'bagging_fraction': 0.6, 'feature_fraction': 0.6}. Best is trial 27 with value: 0.7575757575757576.\n",
      "[I 2023-12-19 12:18:01,260] Trial 31 finished with value: 0.5757575757575758 and parameters: {'n_estimators': 900, 'learning_rate': 0.3335175679406021, 'max_depth': 7, 'subsample': 0.5, 'bagging_fraction': 0.6, 'feature_fraction': 0.7}. Best is trial 27 with value: 0.7575757575757576.\n",
      "[I 2023-12-19 12:18:22,364] Trial 32 finished with value: 0.5909090909090909 and parameters: {'n_estimators': 1000, 'learning_rate': 0.4205208455138733, 'max_depth': 7, 'subsample': 0.6, 'bagging_fraction': 0.6, 'feature_fraction': 0.7}. Best is trial 27 with value: 0.7575757575757576.\n",
      "[I 2023-12-19 12:18:48,546] Trial 33 finished with value: 0.6363636363636364 and parameters: {'n_estimators': 900, 'learning_rate': 0.01429349720516887, 'max_depth': 6, 'subsample': 0.5, 'bagging_fraction': 0.7, 'feature_fraction': 0.8}. Best is trial 27 with value: 0.7575757575757576.\n",
      "[I 2023-12-19 12:19:13,770] Trial 34 finished with value: 0.6818181818181818 and parameters: {'n_estimators': 1000, 'learning_rate': 0.39523665057985674, 'max_depth': 7, 'subsample': 0.6, 'bagging_fraction': 0.6, 'feature_fraction': 0.7}. Best is trial 27 with value: 0.7575757575757576.\n",
      "[I 2023-12-19 12:19:19,885] Trial 35 finished with value: 0.6363636363636364 and parameters: {'n_estimators': 800, 'learning_rate': 0.33115220502002135, 'max_depth': 2, 'subsample': 0.5, 'bagging_fraction': 0.7, 'feature_fraction': 0.6}. Best is trial 27 with value: 0.7575757575757576.\n",
      "[I 2023-12-19 12:19:33,523] Trial 36 finished with value: 0.5606060606060606 and parameters: {'n_estimators': 700, 'learning_rate': 0.47886882354075944, 'max_depth': 8, 'subsample': 0.6, 'bagging_fraction': 0.7, 'feature_fraction': 0.7}. Best is trial 27 with value: 0.7575757575757576.\n",
      "[I 2023-12-19 12:19:49,672] Trial 37 finished with value: 0.6363636363636364 and parameters: {'n_estimators': 800, 'learning_rate': 0.43180304369884814, 'max_depth': 5, 'subsample': 0.5, 'bagging_fraction': 0.7, 'feature_fraction': 0.8}. Best is trial 27 with value: 0.7575757575757576.\n",
      "[I 2023-12-19 12:20:10,164] Trial 38 finished with value: 0.6666666666666666 and parameters: {'n_estimators': 900, 'learning_rate': 0.3713633149708996, 'max_depth': 7, 'subsample': 0.6, 'bagging_fraction': 0.6, 'feature_fraction': 0.7}. Best is trial 27 with value: 0.7575757575757576.\n",
      "[I 2023-12-19 12:20:26,487] Trial 39 finished with value: 0.6666666666666666 and parameters: {'n_estimators': 1000, 'learning_rate': 0.4020648867104702, 'max_depth': 6, 'subsample': 0.5, 'bagging_fraction': 0.7, 'feature_fraction': 0.6}. Best is trial 27 with value: 0.7575757575757576.\n",
      "[I 2023-12-19 12:20:45,834] Trial 40 finished with value: 0.7121212121212122 and parameters: {'n_estimators': 600, 'learning_rate': 0.14623866547352235, 'max_depth': 8, 'subsample': 0.5, 'bagging_fraction': 0.7, 'feature_fraction': 0.8}. Best is trial 27 with value: 0.7575757575757576.\n",
      "[I 2023-12-19 12:20:57,147] Trial 41 finished with value: 0.5454545454545454 and parameters: {'n_estimators': 500, 'learning_rate': 0.44864642051395215, 'max_depth': 8, 'subsample': 0.7, 'bagging_fraction': 0.8, 'feature_fraction': 0.7}. Best is trial 27 with value: 0.7575757575757576.\n",
      "[I 2023-12-19 12:21:09,046] Trial 42 finished with value: 0.7575757575757576 and parameters: {'n_estimators': 400, 'learning_rate': 0.47113516537386574, 'max_depth': 8, 'subsample': 0.7, 'bagging_fraction': 0.8, 'feature_fraction': 0.7}. Best is trial 27 with value: 0.7575757575757576.\n",
      "[I 2023-12-19 12:21:16,268] Trial 43 finished with value: 0.696969696969697 and parameters: {'n_estimators': 200, 'learning_rate': 0.48016272814580785, 'max_depth': 7, 'subsample': 0.6, 'bagging_fraction': 0.7, 'feature_fraction': 0.7}. Best is trial 27 with value: 0.7575757575757576.\n",
      "[I 2023-12-19 12:21:28,663] Trial 44 finished with value: 0.6363636363636364 and parameters: {'n_estimators': 500, 'learning_rate': 0.46903818791789276, 'max_depth': 8, 'subsample': 0.6, 'bagging_fraction': 0.8, 'feature_fraction': 0.8}. Best is trial 27 with value: 0.7575757575757576.\n",
      "[I 2023-12-19 12:21:37,615] Trial 45 finished with value: 0.5454545454545454 and parameters: {'n_estimators': 300, 'learning_rate': 0.43234967146233333, 'max_depth': 7, 'subsample': 0.8, 'bagging_fraction': 0.7, 'feature_fraction': 0.7}. Best is trial 27 with value: 0.7575757575757576.\n",
      "[I 2023-12-19 12:21:43,739] Trial 46 finished with value: 0.6212121212121212 and parameters: {'n_estimators': 200, 'learning_rate': 0.41232295269101127, 'max_depth': 8, 'subsample': 0.5, 'bagging_fraction': 0.8, 'feature_fraction': 0.7}. Best is trial 27 with value: 0.7575757575757576.\n",
      "[I 2023-12-19 12:22:01,687] Trial 47 finished with value: 0.6363636363636364 and parameters: {'n_estimators': 700, 'learning_rate': 0.49387002879788217, 'max_depth': 6, 'subsample': 0.7, 'bagging_fraction': 0.6, 'feature_fraction': 0.8}. Best is trial 27 with value: 0.7575757575757576.\n",
      "[I 2023-12-19 12:22:28,198] Trial 48 finished with value: 0.6818181818181818 and parameters: {'n_estimators': 800, 'learning_rate': 0.21397029416089947, 'max_depth': 7, 'subsample': 0.6, 'bagging_fraction': 0.7, 'feature_fraction': 0.6}. Best is trial 27 with value: 0.7575757575757576.\n",
      "[I 2023-12-19 12:22:46,641] Trial 49 finished with value: 0.5757575757575758 and parameters: {'n_estimators': 600, 'learning_rate': 0.34449995240144093, 'max_depth': 8, 'subsample': 0.7, 'bagging_fraction': 0.7, 'feature_fraction': 0.9}. Best is trial 27 with value: 0.7575757575757576.\n",
      "[I 2023-12-19 12:23:02,431] Trial 50 finished with value: 0.696969696969697 and parameters: {'n_estimators': 500, 'learning_rate': 0.31245534836444894, 'max_depth': 6, 'subsample': 0.5, 'bagging_fraction': 0.6, 'feature_fraction': 0.8}. Best is trial 27 with value: 0.7575757575757576.\n",
      "[I 2023-12-19 12:23:14,395] Trial 51 finished with value: 0.7121212121212122 and parameters: {'n_estimators': 400, 'learning_rate': 0.43546474908111665, 'max_depth': 8, 'subsample': 0.8, 'bagging_fraction': 0.8, 'feature_fraction': 0.7}. Best is trial 27 with value: 0.7575757575757576.\n",
      "[I 2023-12-19 12:23:26,715] Trial 52 finished with value: 0.6515151515151515 and parameters: {'n_estimators': 400, 'learning_rate': 0.3782166988648604, 'max_depth': 8, 'subsample': 0.7, 'bagging_fraction': 0.8, 'feature_fraction': 0.7}. Best is trial 27 with value: 0.7575757575757576.\n",
      "[I 2023-12-19 12:23:37,196] Trial 53 finished with value: 0.6818181818181818 and parameters: {'n_estimators': 300, 'learning_rate': 0.4483022432078069, 'max_depth': 7, 'subsample': 0.7, 'bagging_fraction': 0.8, 'feature_fraction': 0.7}. Best is trial 27 with value: 0.7575757575757576.\n",
      "[I 2023-12-19 12:23:47,999] Trial 54 finished with value: 0.5757575757575758 and parameters: {'n_estimators': 400, 'learning_rate': 0.3969074674303238, 'max_depth': 8, 'subsample': 0.9, 'bagging_fraction': 0.8, 'feature_fraction': 0.7}. Best is trial 27 with value: 0.7575757575757576.\n",
      "[I 2023-12-19 12:24:01,042] Trial 55 finished with value: 0.7121212121212122 and parameters: {'n_estimators': 500, 'learning_rate': 0.4673831578493751, 'max_depth': 7, 'subsample': 0.7, 'bagging_fraction': 0.8, 'feature_fraction': 0.8}. Best is trial 27 with value: 0.7575757575757576.\n",
      "[I 2023-12-19 12:24:09,455] Trial 56 finished with value: 0.6666666666666666 and parameters: {'n_estimators': 200, 'learning_rate': 0.3649347446307091, 'max_depth': 8, 'subsample': 0.7, 'bagging_fraction': 0.8, 'feature_fraction': 0.7}. Best is trial 27 with value: 0.7575757575757576.\n",
      "[I 2023-12-19 12:24:17,963] Trial 57 finished with value: 0.6212121212121212 and parameters: {'n_estimators': 600, 'learning_rate': 0.41657416846755096, 'max_depth': 4, 'subsample': 0.8, 'bagging_fraction': 0.7, 'feature_fraction': 0.7}. Best is trial 27 with value: 0.7575757575757576.\n",
      "[I 2023-12-19 12:24:32,810] Trial 58 finished with value: 0.6212121212121212 and parameters: {'n_estimators': 1000, 'learning_rate': 0.4981581938259865, 'max_depth': 7, 'subsample': 0.6, 'bagging_fraction': 0.7, 'feature_fraction': 0.6}. Best is trial 27 with value: 0.7575757575757576.\n",
      "[I 2023-12-19 12:24:44,779] Trial 59 finished with value: 0.6363636363636364 and parameters: {'n_estimators': 400, 'learning_rate': 0.2953695196312542, 'max_depth': 8, 'subsample': 0.6, 'bagging_fraction': 0.8, 'feature_fraction': 0.8}. Best is trial 27 with value: 0.7575757575757576.\n",
      "[I 2023-12-19 12:25:07,163] Trial 60 finished with value: 0.6515151515151515 and parameters: {'n_estimators': 900, 'learning_rate': 0.4368482385510576, 'max_depth': 8, 'subsample': 0.6, 'bagging_fraction': 0.7, 'feature_fraction': 0.9}. Best is trial 27 with value: 0.7575757575757576.\n",
      "[I 2023-12-19 12:25:10,180] Trial 61 finished with value: 0.6363636363636364 and parameters: {'n_estimators': 100, 'learning_rate': 0.28168977198830636, 'max_depth': 8, 'subsample': 0.7, 'bagging_fraction': 0.7, 'feature_fraction': 0.5}. Best is trial 27 with value: 0.7575757575757576.\n",
      "[I 2023-12-19 12:25:13,419] Trial 62 finished with value: 0.6666666666666666 and parameters: {'n_estimators': 100, 'learning_rate': 0.24172684758635227, 'max_depth': 8, 'subsample': 0.7, 'bagging_fraction': 0.7, 'feature_fraction': 0.5}. Best is trial 27 with value: 0.7575757575757576.\n",
      "[I 2023-12-19 12:25:30,405] Trial 63 finished with value: 0.696969696969697 and parameters: {'n_estimators': 700, 'learning_rate': 0.27344471148609245, 'max_depth': 8, 'subsample': 0.7, 'bagging_fraction': 0.7, 'feature_fraction': 0.5}. Best is trial 27 with value: 0.7575757575757576.\n",
      "[I 2023-12-19 12:25:40,403] Trial 64 finished with value: 0.7121212121212122 and parameters: {'n_estimators': 300, 'learning_rate': 0.3496177255315225, 'max_depth': 7, 'subsample': 0.8, 'bagging_fraction': 0.7, 'feature_fraction': 0.6}. Best is trial 27 with value: 0.7575757575757576.\n",
      "[I 2023-12-19 12:25:47,270] Trial 65 finished with value: 0.5303030303030303 and parameters: {'n_estimators': 200, 'learning_rate': 0.3191943252213457, 'max_depth': 7, 'subsample': 0.7, 'bagging_fraction': 0.7, 'feature_fraction': 0.9}. Best is trial 27 with value: 0.7575757575757576.\n",
      "[I 2023-12-19 12:26:03,533] Trial 66 finished with value: 0.6212121212121212 and parameters: {'n_estimators': 600, 'learning_rate': 0.38768112864969884, 'max_depth': 8, 'subsample': 0.5, 'bagging_fraction': 0.7, 'feature_fraction': 0.5}. Best is trial 27 with value: 0.7575757575757576.\n",
      "[I 2023-12-19 12:26:07,187] Trial 67 finished with value: 0.7575757575757576 and parameters: {'n_estimators': 100, 'learning_rate': 0.20104698743489727, 'max_depth': 7, 'subsample': 0.7, 'bagging_fraction': 0.7, 'feature_fraction': 0.6}. Best is trial 27 with value: 0.7575757575757576.\n",
      "[I 2023-12-19 12:26:31,973] Trial 68 finished with value: 0.6363636363636364 and parameters: {'n_estimators': 900, 'learning_rate': 0.1293509375839472, 'max_depth': 7, 'subsample': 0.5, 'bagging_fraction': 0.8, 'feature_fraction': 0.6}. Best is trial 27 with value: 0.7575757575757576.\n",
      "[I 2023-12-19 12:26:51,098] Trial 69 finished with value: 0.6212121212121212 and parameters: {'n_estimators': 500, 'learning_rate': 0.20167176411706725, 'max_depth': 6, 'subsample': 0.7, 'bagging_fraction': 0.7, 'feature_fraction': 0.7}. Best is trial 27 with value: 0.7575757575757576.\n",
      "[I 2023-12-19 12:27:07,923] Trial 70 finished with value: 0.6515151515151515 and parameters: {'n_estimators': 700, 'learning_rate': 0.18496332712170754, 'max_depth': 5, 'subsample': 0.8, 'bagging_fraction': 0.6, 'feature_fraction': 0.8}. Best is trial 27 with value: 0.7575757575757576.\n",
      "[I 2023-12-19 12:27:10,781] Trial 71 finished with value: 0.6818181818181818 and parameters: {'n_estimators': 100, 'learning_rate': 0.24604875637478263, 'max_depth': 7, 'subsample': 0.7, 'bagging_fraction': 0.7, 'feature_fraction': 0.5}. Best is trial 27 with value: 0.7575757575757576.\n",
      "[I 2023-12-19 12:27:13,911] Trial 72 finished with value: 0.6212121212121212 and parameters: {'n_estimators': 100, 'learning_rate': 0.47408815000632165, 'max_depth': 7, 'subsample': 0.7, 'bagging_fraction': 0.7, 'feature_fraction': 0.6}. Best is trial 27 with value: 0.7575757575757576.\n",
      "[I 2023-12-19 12:27:21,469] Trial 73 finished with value: 0.696969696969697 and parameters: {'n_estimators': 200, 'learning_rate': 0.1015166625419388, 'max_depth': 8, 'subsample': 0.7, 'bagging_fraction': 0.7, 'feature_fraction': 0.6}. Best is trial 27 with value: 0.7575757575757576.\n",
      "[I 2023-12-19 12:27:25,235] Trial 74 finished with value: 0.6363636363636364 and parameters: {'n_estimators': 100, 'learning_rate': 0.17291383013325382, 'max_depth': 7, 'subsample': 0.6, 'bagging_fraction': 0.7, 'feature_fraction': 0.7}. Best is trial 27 with value: 0.7575757575757576.\n",
      "[I 2023-12-19 12:27:43,765] Trial 75 finished with value: 0.696969696969697 and parameters: {'n_estimators': 1000, 'learning_rate': 0.4544449805307881, 'max_depth': 8, 'subsample': 0.7, 'bagging_fraction': 0.7, 'feature_fraction': 0.7}. Best is trial 27 with value: 0.7575757575757576.\n",
      "[I 2023-12-19 12:27:53,155] Trial 76 finished with value: 0.6818181818181818 and parameters: {'n_estimators': 300, 'learning_rate': 0.35816910797525536, 'max_depth': 8, 'subsample': 0.5, 'bagging_fraction': 0.7, 'feature_fraction': 0.7}. Best is trial 27 with value: 0.7575757575757576.\n",
      "[I 2023-12-19 12:27:58,278] Trial 77 finished with value: 0.6818181818181818 and parameters: {'n_estimators': 200, 'learning_rate': 0.406181908119297, 'max_depth': 7, 'subsample': 0.6, 'bagging_fraction': 0.7, 'feature_fraction': 0.5}. Best is trial 27 with value: 0.7575757575757576.\n",
      "[I 2023-12-19 12:28:16,516] Trial 78 finished with value: 0.7121212121212122 and parameters: {'n_estimators': 800, 'learning_rate': 0.37380617083279083, 'max_depth': 6, 'subsample': 0.7, 'bagging_fraction': 0.6, 'feature_fraction': 0.6}. Best is trial 27 with value: 0.7575757575757576.\n",
      "[I 2023-12-19 12:28:20,462] Trial 79 finished with value: 0.6363636363636364 and parameters: {'n_estimators': 100, 'learning_rate': 0.32748399195951106, 'max_depth': 8, 'subsample': 0.5, 'bagging_fraction': 0.7, 'feature_fraction': 0.8}. Best is trial 27 with value: 0.7575757575757576.\n",
      "[I 2023-12-19 12:28:36,705] Trial 80 finished with value: 0.6666666666666666 and parameters: {'n_estimators': 600, 'learning_rate': 0.42587297642863486, 'max_depth': 7, 'subsample': 0.6, 'bagging_fraction': 0.8, 'feature_fraction': 0.7}. Best is trial 27 with value: 0.7575757575757576.\n",
      "[I 2023-12-19 12:28:55,790] Trial 81 finished with value: 0.6515151515151515 and parameters: {'n_estimators': 600, 'learning_rate': 0.1456187682362154, 'max_depth': 8, 'subsample': 0.5, 'bagging_fraction': 0.7, 'feature_fraction': 0.8}. Best is trial 27 with value: 0.7575757575757576.\n",
      "[I 2023-12-19 12:29:14,883] Trial 82 finished with value: 0.696969696969697 and parameters: {'n_estimators': 600, 'learning_rate': 0.09341130859658886, 'max_depth': 8, 'subsample': 0.5, 'bagging_fraction': 0.7, 'feature_fraction': 0.8}. Best is trial 27 with value: 0.7575757575757576.\n",
      "[I 2023-12-19 12:29:34,009] Trial 83 finished with value: 0.6818181818181818 and parameters: {'n_estimators': 600, 'learning_rate': 0.19216263611319617, 'max_depth': 8, 'subsample': 0.5, 'bagging_fraction': 0.7, 'feature_fraction': 0.8}. Best is trial 27 with value: 0.7575757575757576.\n",
      "[I 2023-12-19 12:29:54,447] Trial 84 finished with value: 0.6818181818181818 and parameters: {'n_estimators': 700, 'learning_rate': 0.21756596455280017, 'max_depth': 8, 'subsample': 0.5, 'bagging_fraction': 0.7, 'feature_fraction': 0.8}. Best is trial 27 with value: 0.7575757575757576.\n",
      "[I 2023-12-19 12:30:06,043] Trial 85 finished with value: 0.696969696969697 and parameters: {'n_estimators': 500, 'learning_rate': 0.4849661507768821, 'max_depth': 7, 'subsample': 0.5, 'bagging_fraction': 0.7, 'feature_fraction': 0.7}. Best is trial 27 with value: 0.7575757575757576.\n",
      "[I 2023-12-19 12:30:45,520] Trial 86 finished with value: 0.7121212121212122 and parameters: {'n_estimators': 1000, 'learning_rate': 0.1528823794072533, 'max_depth': 8, 'subsample': 0.7, 'bagging_fraction': 0.7, 'feature_fraction': 0.8}. Best is trial 27 with value: 0.7575757575757576.\n",
      "[I 2023-12-19 12:31:03,674] Trial 87 finished with value: 0.696969696969697 and parameters: {'n_estimators': 400, 'learning_rate': 0.29587713137028854, 'max_depth': 7, 'subsample': 0.5, 'bagging_fraction': 0.6, 'feature_fraction': 0.7}. Best is trial 27 with value: 0.7575757575757576.\n",
      "[I 2023-12-19 12:31:19,138] Trial 88 finished with value: 0.6212121212121212 and parameters: {'n_estimators': 700, 'learning_rate': 0.4409192768925122, 'max_depth': 8, 'subsample': 0.6, 'bagging_fraction': 0.8, 'feature_fraction': 0.7}. Best is trial 27 with value: 0.7575757575757576.\n",
      "[I 2023-12-19 12:31:22,981] Trial 89 finished with value: 0.5454545454545454 and parameters: {'n_estimators': 500, 'learning_rate': 0.3949614435012109, 'max_depth': 2, 'subsample': 0.7, 'bagging_fraction': 0.7, 'feature_fraction': 0.9}. Best is trial 27 with value: 0.7575757575757576.\n",
      "[I 2023-12-19 12:31:42,401] Trial 90 finished with value: 0.696969696969697 and parameters: {'n_estimators': 800, 'learning_rate': 0.27228103129658404, 'max_depth': 6, 'subsample': 0.7, 'bagging_fraction': 0.7, 'feature_fraction': 0.8}. Best is trial 27 with value: 0.7575757575757576.\n",
      "[I 2023-12-19 12:31:54,790] Trial 91 finished with value: 0.6212121212121212 and parameters: {'n_estimators': 400, 'learning_rate': 0.4590623313626276, 'max_depth': 8, 'subsample': 0.8, 'bagging_fraction': 0.8, 'feature_fraction': 0.7}. Best is trial 27 with value: 0.7575757575757576.\n",
      "[I 2023-12-19 12:32:07,583] Trial 92 finished with value: 0.6515151515151515 and parameters: {'n_estimators': 400, 'learning_rate': 0.4163039693853918, 'max_depth': 8, 'subsample': 0.8, 'bagging_fraction': 0.8, 'feature_fraction': 0.7}. Best is trial 27 with value: 0.7575757575757576.\n",
      "[I 2023-12-19 12:32:17,392] Trial 93 finished with value: 0.6818181818181818 and parameters: {'n_estimators': 300, 'learning_rate': 0.46665511863608616, 'max_depth': 8, 'subsample': 0.9, 'bagging_fraction': 0.8, 'feature_fraction': 0.7}. Best is trial 27 with value: 0.7575757575757576.\n",
      "[I 2023-12-19 12:32:32,783] Trial 94 finished with value: 0.6666666666666666 and parameters: {'n_estimators': 500, 'learning_rate': 0.44777536907131266, 'max_depth': 8, 'subsample': 0.7, 'bagging_fraction': 0.8, 'feature_fraction': 0.7}. Best is trial 27 with value: 0.7575757575757576.\n",
      "[I 2023-12-19 12:32:41,610] Trial 95 finished with value: 0.7272727272727273 and parameters: {'n_estimators': 300, 'learning_rate': 0.38458498174293704, 'max_depth': 7, 'subsample': 0.8, 'bagging_fraction': 0.8, 'feature_fraction': 0.7}. Best is trial 27 with value: 0.7575757575757576.\n",
      "[I 2023-12-19 12:32:48,707] Trial 96 finished with value: 0.5909090909090909 and parameters: {'n_estimators': 200, 'learning_rate': 0.34310884295087823, 'max_depth': 7, 'subsample': 0.5, 'bagging_fraction': 0.8, 'feature_fraction': 0.8}. Best is trial 27 with value: 0.7575757575757576.\n",
      "[I 2023-12-19 12:32:54,798] Trial 97 finished with value: 0.7272727272727273 and parameters: {'n_estimators': 200, 'learning_rate': 0.38258016880575957, 'max_depth': 7, 'subsample': 0.8, 'bagging_fraction': 0.7, 'feature_fraction': 0.7}. Best is trial 27 with value: 0.7575757575757576.\n",
      "[I 2023-12-19 12:33:00,437] Trial 98 finished with value: 0.5909090909090909 and parameters: {'n_estimators': 200, 'learning_rate': 0.38367816738684235, 'max_depth': 6, 'subsample': 0.8, 'bagging_fraction': 0.7, 'feature_fraction': 0.7}. Best is trial 27 with value: 0.7575757575757576.\n",
      "[I 2023-12-19 12:33:03,514] Trial 99 finished with value: 0.7272727272727273 and parameters: {'n_estimators': 100, 'learning_rate': 0.3650606447655172, 'max_depth': 7, 'subsample': 0.8, 'bagging_fraction': 0.8, 'feature_fraction': 0.7}. Best is trial 27 with value: 0.7575757575757576.\n"
     ]
    }
   ],
   "source": [
    "study.optimize(func, n_trials=100) #non-parallel"
   ]
  },
  {
   "cell_type": "code",
   "execution_count": 26,
   "id": "284f7a7c",
   "metadata": {},
   "outputs": [
    {
     "data": {
      "application/vnd.plotly.v1+json": {
       "config": {
        "plotlyServerURL": "https://plot.ly"
       },
       "data": [
        {
         "dimensions": [
          {
           "label": "Objective Value",
           "range": [
            0.5303030303030303,
            0.7575757575757576
           ],
           "values": [
            0.7272727272727273,
            0.5606060606060606,
            0.6212121212121212,
            0.7272727272727273,
            0.6515151515151515,
            0.6666666666666666,
            0.6515151515151515,
            0.6363636363636364,
            0.6363636363636364,
            0.6515151515151515,
            0.5909090909090909,
            0.6060606060606061,
            0.6363636363636364,
            0.6212121212121212,
            0.6363636363636364,
            0.5606060606060606,
            0.6212121212121212,
            0.6060606060606061,
            0.6515151515151515,
            0.5454545454545454,
            0.6515151515151515,
            0.6818181818181818,
            0.7121212121212122,
            0.6515151515151515,
            0.6666666666666666,
            0.7121212121212122,
            0.6666666666666666,
            0.7575757575757576,
            0.6363636363636364,
            0.7424242424242424,
            0.6060606060606061,
            0.5757575757575758,
            0.5909090909090909,
            0.6363636363636364,
            0.6818181818181818,
            0.6363636363636364,
            0.5606060606060606,
            0.6363636363636364,
            0.6666666666666666,
            0.6666666666666666,
            0.7121212121212122,
            0.5454545454545454,
            0.7575757575757576,
            0.696969696969697,
            0.6363636363636364,
            0.5454545454545454,
            0.6212121212121212,
            0.6363636363636364,
            0.6818181818181818,
            0.5757575757575758,
            0.696969696969697,
            0.7121212121212122,
            0.6515151515151515,
            0.6818181818181818,
            0.5757575757575758,
            0.7121212121212122,
            0.6666666666666666,
            0.6212121212121212,
            0.6212121212121212,
            0.6363636363636364,
            0.6515151515151515,
            0.6363636363636364,
            0.6666666666666666,
            0.696969696969697,
            0.7121212121212122,
            0.5303030303030303,
            0.6212121212121212,
            0.7575757575757576,
            0.6363636363636364,
            0.6212121212121212,
            0.6515151515151515,
            0.6818181818181818,
            0.6212121212121212,
            0.696969696969697,
            0.6363636363636364,
            0.696969696969697,
            0.6818181818181818,
            0.6818181818181818,
            0.7121212121212122,
            0.6363636363636364,
            0.6666666666666666,
            0.6515151515151515,
            0.696969696969697,
            0.6818181818181818,
            0.6818181818181818,
            0.696969696969697,
            0.7121212121212122,
            0.696969696969697,
            0.6212121212121212,
            0.5454545454545454,
            0.696969696969697,
            0.6212121212121212,
            0.6515151515151515,
            0.6818181818181818,
            0.6666666666666666,
            0.7272727272727273,
            0.5909090909090909,
            0.7272727272727273,
            0.5909090909090909,
            0.7272727272727273
           ]
          },
          {
           "label": "bagging_fraction",
           "range": [
            0.6,
            0.8
           ],
           "values": [
            0.7,
            0.6,
            0.8,
            0.7,
            0.7,
            0.8,
            0.7,
            0.8,
            0.8,
            0.7,
            0.6,
            0.7,
            0.6,
            0.7,
            0.7,
            0.6,
            0.7,
            0.6,
            0.8,
            0.7,
            0.7,
            0.8,
            0.8,
            0.8,
            0.7,
            0.7,
            0.8,
            0.7,
            0.7,
            0.6,
            0.6,
            0.6,
            0.6,
            0.7,
            0.6,
            0.7,
            0.7,
            0.7,
            0.6,
            0.7,
            0.7,
            0.8,
            0.8,
            0.7,
            0.8,
            0.7,
            0.8,
            0.6,
            0.7,
            0.7,
            0.6,
            0.8,
            0.8,
            0.8,
            0.8,
            0.8,
            0.8,
            0.7,
            0.7,
            0.8,
            0.7,
            0.7,
            0.7,
            0.7,
            0.7,
            0.7,
            0.7,
            0.7,
            0.8,
            0.7,
            0.6,
            0.7,
            0.7,
            0.7,
            0.7,
            0.7,
            0.7,
            0.7,
            0.6,
            0.7,
            0.8,
            0.7,
            0.7,
            0.7,
            0.7,
            0.7,
            0.7,
            0.6,
            0.8,
            0.7,
            0.7,
            0.8,
            0.8,
            0.8,
            0.8,
            0.8,
            0.8,
            0.7,
            0.7,
            0.8
           ]
          },
          {
           "label": "feature_fraction",
           "range": [
            0.5,
            0.9
           ],
           "values": [
            0.8,
            0.6,
            0.7,
            0.8,
            0.6,
            0.7,
            0.8,
            0.7,
            0.9,
            0.6,
            0.9,
            0.8,
            0.8,
            0.5,
            0.8,
            0.9,
            0.8,
            0.9,
            0.7,
            0.8,
            0.7,
            0.7,
            0.7,
            0.8,
            0.6,
            0.5,
            0.8,
            0.7,
            0.9,
            0.7,
            0.6,
            0.7,
            0.7,
            0.8,
            0.7,
            0.6,
            0.7,
            0.8,
            0.7,
            0.6,
            0.8,
            0.7,
            0.7,
            0.7,
            0.8,
            0.7,
            0.7,
            0.8,
            0.6,
            0.9,
            0.8,
            0.7,
            0.7,
            0.7,
            0.7,
            0.8,
            0.7,
            0.7,
            0.6,
            0.8,
            0.9,
            0.5,
            0.5,
            0.5,
            0.6,
            0.9,
            0.5,
            0.6,
            0.6,
            0.7,
            0.8,
            0.5,
            0.6,
            0.6,
            0.7,
            0.7,
            0.7,
            0.5,
            0.6,
            0.8,
            0.7,
            0.8,
            0.8,
            0.8,
            0.8,
            0.7,
            0.8,
            0.7,
            0.7,
            0.9,
            0.8,
            0.7,
            0.7,
            0.7,
            0.7,
            0.7,
            0.8,
            0.7,
            0.7,
            0.7
           ]
          },
          {
           "label": "learning_rate",
           "range": [
            0.01429349720516887,
            0.4981581938259865
           ],
           "values": [
            0.3527609044752923,
            0.16501001911739813,
            0.451069790956453,
            0.44778932581050135,
            0.447847904441173,
            0.40553745670032254,
            0.3136514199244752,
            0.07017125696070683,
            0.4977708304394621,
            0.05778708758848389,
            0.29856734113414707,
            0.36413888065157896,
            0.22073369765508447,
            0.35960139732280005,
            0.23025843111340605,
            0.38827480976483186,
            0.493555104760296,
            0.3056337430419543,
            0.15017699010488533,
            0.42377686722309826,
            0.35455797110646714,
            0.4076719824152927,
            0.4458531984759133,
            0.45952034369710765,
            0.33735330035390687,
            0.279531326927701,
            0.45634318150414177,
            0.3855938611994342,
            0.25989713235141537,
            0.38195481761148187,
            0.38110696778217923,
            0.3335175679406021,
            0.4205208455138733,
            0.01429349720516887,
            0.39523665057985674,
            0.33115220502002135,
            0.47886882354075944,
            0.43180304369884814,
            0.3713633149708996,
            0.4020648867104702,
            0.14623866547352235,
            0.44864642051395215,
            0.47113516537386574,
            0.48016272814580785,
            0.46903818791789276,
            0.43234967146233333,
            0.41232295269101127,
            0.49387002879788217,
            0.21397029416089947,
            0.34449995240144093,
            0.31245534836444894,
            0.43546474908111665,
            0.3782166988648604,
            0.4483022432078069,
            0.3969074674303238,
            0.4673831578493751,
            0.3649347446307091,
            0.41657416846755096,
            0.4981581938259865,
            0.2953695196312542,
            0.4368482385510576,
            0.28168977198830636,
            0.24172684758635227,
            0.27344471148609245,
            0.3496177255315225,
            0.3191943252213457,
            0.38768112864969884,
            0.20104698743489727,
            0.1293509375839472,
            0.20167176411706725,
            0.18496332712170754,
            0.24604875637478263,
            0.47408815000632165,
            0.1015166625419388,
            0.17291383013325382,
            0.4544449805307881,
            0.35816910797525536,
            0.406181908119297,
            0.37380617083279083,
            0.32748399195951106,
            0.42587297642863486,
            0.1456187682362154,
            0.09341130859658886,
            0.19216263611319617,
            0.21756596455280017,
            0.4849661507768821,
            0.1528823794072533,
            0.29587713137028854,
            0.4409192768925122,
            0.3949614435012109,
            0.27228103129658404,
            0.4590623313626276,
            0.4163039693853918,
            0.46665511863608616,
            0.44777536907131266,
            0.38458498174293704,
            0.34310884295087823,
            0.38258016880575957,
            0.38367816738684235,
            0.3650606447655172
           ]
          },
          {
           "label": "max_depth",
           "range": [
            2,
            8
           ],
           "values": [
            8,
            2,
            5,
            7,
            8,
            7,
            8,
            4,
            8,
            6,
            3,
            6,
            7,
            7,
            6,
            5,
            7,
            8,
            6,
            4,
            7,
            7,
            8,
            8,
            8,
            8,
            5,
            7,
            6,
            7,
            3,
            7,
            7,
            6,
            7,
            2,
            8,
            5,
            7,
            6,
            8,
            8,
            8,
            7,
            8,
            7,
            8,
            6,
            7,
            8,
            6,
            8,
            8,
            7,
            8,
            7,
            8,
            4,
            7,
            8,
            8,
            8,
            8,
            8,
            7,
            7,
            8,
            7,
            7,
            6,
            5,
            7,
            7,
            8,
            7,
            8,
            8,
            7,
            6,
            8,
            7,
            8,
            8,
            8,
            8,
            7,
            8,
            7,
            8,
            2,
            6,
            8,
            8,
            8,
            8,
            7,
            7,
            7,
            6,
            7
           ]
          },
          {
           "label": "n_estimators",
           "range": [
            100,
            1000
           ],
           "values": [
            1000,
            1000,
            800,
            600,
            1000,
            500,
            900,
            200,
            800,
            700,
            300,
            500,
            600,
            100,
            600,
            400,
            800,
            400,
            700,
            900,
            700,
            500,
            400,
            300,
            400,
            100,
            300,
            600,
            600,
            1000,
            1000,
            900,
            1000,
            900,
            1000,
            800,
            700,
            800,
            900,
            1000,
            600,
            500,
            400,
            200,
            500,
            300,
            200,
            700,
            800,
            600,
            500,
            400,
            400,
            300,
            400,
            500,
            200,
            600,
            1000,
            400,
            900,
            100,
            100,
            700,
            300,
            200,
            600,
            100,
            900,
            500,
            700,
            100,
            100,
            200,
            100,
            1000,
            300,
            200,
            800,
            100,
            600,
            600,
            600,
            600,
            700,
            500,
            1000,
            400,
            700,
            500,
            800,
            400,
            400,
            300,
            500,
            300,
            200,
            200,
            200,
            100
           ]
          },
          {
           "label": "subsample",
           "range": [
            0.5,
            0.9
           ],
           "values": [
            0.6,
            0.6,
            0.6,
            0.6,
            0.8,
            0.7,
            0.6,
            0.7,
            0.5,
            0.9,
            0.5,
            0.6,
            0.5,
            0.8,
            0.7,
            0.6,
            0.8,
            0.5,
            0.6,
            0.7,
            0.9,
            0.7,
            0.7,
            0.6,
            0.8,
            0.7,
            0.6,
            0.5,
            0.5,
            0.5,
            0.5,
            0.5,
            0.6,
            0.5,
            0.6,
            0.5,
            0.6,
            0.5,
            0.6,
            0.5,
            0.5,
            0.7,
            0.7,
            0.6,
            0.6,
            0.8,
            0.5,
            0.7,
            0.6,
            0.7,
            0.5,
            0.8,
            0.7,
            0.7,
            0.9,
            0.7,
            0.7,
            0.8,
            0.6,
            0.6,
            0.6,
            0.7,
            0.7,
            0.7,
            0.8,
            0.7,
            0.5,
            0.7,
            0.5,
            0.7,
            0.8,
            0.7,
            0.7,
            0.7,
            0.6,
            0.7,
            0.5,
            0.6,
            0.7,
            0.5,
            0.6,
            0.5,
            0.5,
            0.5,
            0.5,
            0.5,
            0.7,
            0.5,
            0.6,
            0.7,
            0.7,
            0.8,
            0.8,
            0.9,
            0.7,
            0.8,
            0.5,
            0.8,
            0.8,
            0.8
           ]
          }
         ],
         "labelangle": 30,
         "labelside": "bottom",
         "line": {
          "color": [
           0.7272727272727273,
           0.5606060606060606,
           0.6212121212121212,
           0.7272727272727273,
           0.6515151515151515,
           0.6666666666666666,
           0.6515151515151515,
           0.6363636363636364,
           0.6363636363636364,
           0.6515151515151515,
           0.5909090909090909,
           0.6060606060606061,
           0.6363636363636364,
           0.6212121212121212,
           0.6363636363636364,
           0.5606060606060606,
           0.6212121212121212,
           0.6060606060606061,
           0.6515151515151515,
           0.5454545454545454,
           0.6515151515151515,
           0.6818181818181818,
           0.7121212121212122,
           0.6515151515151515,
           0.6666666666666666,
           0.7121212121212122,
           0.6666666666666666,
           0.7575757575757576,
           0.6363636363636364,
           0.7424242424242424,
           0.6060606060606061,
           0.5757575757575758,
           0.5909090909090909,
           0.6363636363636364,
           0.6818181818181818,
           0.6363636363636364,
           0.5606060606060606,
           0.6363636363636364,
           0.6666666666666666,
           0.6666666666666666,
           0.7121212121212122,
           0.5454545454545454,
           0.7575757575757576,
           0.696969696969697,
           0.6363636363636364,
           0.5454545454545454,
           0.6212121212121212,
           0.6363636363636364,
           0.6818181818181818,
           0.5757575757575758,
           0.696969696969697,
           0.7121212121212122,
           0.6515151515151515,
           0.6818181818181818,
           0.5757575757575758,
           0.7121212121212122,
           0.6666666666666666,
           0.6212121212121212,
           0.6212121212121212,
           0.6363636363636364,
           0.6515151515151515,
           0.6363636363636364,
           0.6666666666666666,
           0.696969696969697,
           0.7121212121212122,
           0.5303030303030303,
           0.6212121212121212,
           0.7575757575757576,
           0.6363636363636364,
           0.6212121212121212,
           0.6515151515151515,
           0.6818181818181818,
           0.6212121212121212,
           0.696969696969697,
           0.6363636363636364,
           0.696969696969697,
           0.6818181818181818,
           0.6818181818181818,
           0.7121212121212122,
           0.6363636363636364,
           0.6666666666666666,
           0.6515151515151515,
           0.696969696969697,
           0.6818181818181818,
           0.6818181818181818,
           0.696969696969697,
           0.7121212121212122,
           0.696969696969697,
           0.6212121212121212,
           0.5454545454545454,
           0.696969696969697,
           0.6212121212121212,
           0.6515151515151515,
           0.6818181818181818,
           0.6666666666666666,
           0.7272727272727273,
           0.5909090909090909,
           0.7272727272727273,
           0.5909090909090909,
           0.7272727272727273
          ],
          "colorbar": {
           "title": {
            "text": "Objective Value"
           }
          },
          "colorscale": [
           [
            0,
            "rgb(247,251,255)"
           ],
           [
            0.125,
            "rgb(222,235,247)"
           ],
           [
            0.25,
            "rgb(198,219,239)"
           ],
           [
            0.375,
            "rgb(158,202,225)"
           ],
           [
            0.5,
            "rgb(107,174,214)"
           ],
           [
            0.625,
            "rgb(66,146,198)"
           ],
           [
            0.75,
            "rgb(33,113,181)"
           ],
           [
            0.875,
            "rgb(8,81,156)"
           ],
           [
            1,
            "rgb(8,48,107)"
           ]
          ],
          "reversescale": false,
          "showscale": true
         },
         "type": "parcoords"
        }
       ],
       "layout": {
        "template": {
         "data": {
          "bar": [
           {
            "error_x": {
             "color": "#2a3f5f"
            },
            "error_y": {
             "color": "#2a3f5f"
            },
            "marker": {
             "line": {
              "color": "#E5ECF6",
              "width": 0.5
             },
             "pattern": {
              "fillmode": "overlay",
              "size": 10,
              "solidity": 0.2
             }
            },
            "type": "bar"
           }
          ],
          "barpolar": [
           {
            "marker": {
             "line": {
              "color": "#E5ECF6",
              "width": 0.5
             },
             "pattern": {
              "fillmode": "overlay",
              "size": 10,
              "solidity": 0.2
             }
            },
            "type": "barpolar"
           }
          ],
          "carpet": [
           {
            "aaxis": {
             "endlinecolor": "#2a3f5f",
             "gridcolor": "white",
             "linecolor": "white",
             "minorgridcolor": "white",
             "startlinecolor": "#2a3f5f"
            },
            "baxis": {
             "endlinecolor": "#2a3f5f",
             "gridcolor": "white",
             "linecolor": "white",
             "minorgridcolor": "white",
             "startlinecolor": "#2a3f5f"
            },
            "type": "carpet"
           }
          ],
          "choropleth": [
           {
            "colorbar": {
             "outlinewidth": 0,
             "ticks": ""
            },
            "type": "choropleth"
           }
          ],
          "contour": [
           {
            "colorbar": {
             "outlinewidth": 0,
             "ticks": ""
            },
            "colorscale": [
             [
              0,
              "#0d0887"
             ],
             [
              0.1111111111111111,
              "#46039f"
             ],
             [
              0.2222222222222222,
              "#7201a8"
             ],
             [
              0.3333333333333333,
              "#9c179e"
             ],
             [
              0.4444444444444444,
              "#bd3786"
             ],
             [
              0.5555555555555556,
              "#d8576b"
             ],
             [
              0.6666666666666666,
              "#ed7953"
             ],
             [
              0.7777777777777778,
              "#fb9f3a"
             ],
             [
              0.8888888888888888,
              "#fdca26"
             ],
             [
              1,
              "#f0f921"
             ]
            ],
            "type": "contour"
           }
          ],
          "contourcarpet": [
           {
            "colorbar": {
             "outlinewidth": 0,
             "ticks": ""
            },
            "type": "contourcarpet"
           }
          ],
          "heatmap": [
           {
            "colorbar": {
             "outlinewidth": 0,
             "ticks": ""
            },
            "colorscale": [
             [
              0,
              "#0d0887"
             ],
             [
              0.1111111111111111,
              "#46039f"
             ],
             [
              0.2222222222222222,
              "#7201a8"
             ],
             [
              0.3333333333333333,
              "#9c179e"
             ],
             [
              0.4444444444444444,
              "#bd3786"
             ],
             [
              0.5555555555555556,
              "#d8576b"
             ],
             [
              0.6666666666666666,
              "#ed7953"
             ],
             [
              0.7777777777777778,
              "#fb9f3a"
             ],
             [
              0.8888888888888888,
              "#fdca26"
             ],
             [
              1,
              "#f0f921"
             ]
            ],
            "type": "heatmap"
           }
          ],
          "heatmapgl": [
           {
            "colorbar": {
             "outlinewidth": 0,
             "ticks": ""
            },
            "colorscale": [
             [
              0,
              "#0d0887"
             ],
             [
              0.1111111111111111,
              "#46039f"
             ],
             [
              0.2222222222222222,
              "#7201a8"
             ],
             [
              0.3333333333333333,
              "#9c179e"
             ],
             [
              0.4444444444444444,
              "#bd3786"
             ],
             [
              0.5555555555555556,
              "#d8576b"
             ],
             [
              0.6666666666666666,
              "#ed7953"
             ],
             [
              0.7777777777777778,
              "#fb9f3a"
             ],
             [
              0.8888888888888888,
              "#fdca26"
             ],
             [
              1,
              "#f0f921"
             ]
            ],
            "type": "heatmapgl"
           }
          ],
          "histogram": [
           {
            "marker": {
             "pattern": {
              "fillmode": "overlay",
              "size": 10,
              "solidity": 0.2
             }
            },
            "type": "histogram"
           }
          ],
          "histogram2d": [
           {
            "colorbar": {
             "outlinewidth": 0,
             "ticks": ""
            },
            "colorscale": [
             [
              0,
              "#0d0887"
             ],
             [
              0.1111111111111111,
              "#46039f"
             ],
             [
              0.2222222222222222,
              "#7201a8"
             ],
             [
              0.3333333333333333,
              "#9c179e"
             ],
             [
              0.4444444444444444,
              "#bd3786"
             ],
             [
              0.5555555555555556,
              "#d8576b"
             ],
             [
              0.6666666666666666,
              "#ed7953"
             ],
             [
              0.7777777777777778,
              "#fb9f3a"
             ],
             [
              0.8888888888888888,
              "#fdca26"
             ],
             [
              1,
              "#f0f921"
             ]
            ],
            "type": "histogram2d"
           }
          ],
          "histogram2dcontour": [
           {
            "colorbar": {
             "outlinewidth": 0,
             "ticks": ""
            },
            "colorscale": [
             [
              0,
              "#0d0887"
             ],
             [
              0.1111111111111111,
              "#46039f"
             ],
             [
              0.2222222222222222,
              "#7201a8"
             ],
             [
              0.3333333333333333,
              "#9c179e"
             ],
             [
              0.4444444444444444,
              "#bd3786"
             ],
             [
              0.5555555555555556,
              "#d8576b"
             ],
             [
              0.6666666666666666,
              "#ed7953"
             ],
             [
              0.7777777777777778,
              "#fb9f3a"
             ],
             [
              0.8888888888888888,
              "#fdca26"
             ],
             [
              1,
              "#f0f921"
             ]
            ],
            "type": "histogram2dcontour"
           }
          ],
          "mesh3d": [
           {
            "colorbar": {
             "outlinewidth": 0,
             "ticks": ""
            },
            "type": "mesh3d"
           }
          ],
          "parcoords": [
           {
            "line": {
             "colorbar": {
              "outlinewidth": 0,
              "ticks": ""
             }
            },
            "type": "parcoords"
           }
          ],
          "pie": [
           {
            "automargin": true,
            "type": "pie"
           }
          ],
          "scatter": [
           {
            "fillpattern": {
             "fillmode": "overlay",
             "size": 10,
             "solidity": 0.2
            },
            "type": "scatter"
           }
          ],
          "scatter3d": [
           {
            "line": {
             "colorbar": {
              "outlinewidth": 0,
              "ticks": ""
             }
            },
            "marker": {
             "colorbar": {
              "outlinewidth": 0,
              "ticks": ""
             }
            },
            "type": "scatter3d"
           }
          ],
          "scattercarpet": [
           {
            "marker": {
             "colorbar": {
              "outlinewidth": 0,
              "ticks": ""
             }
            },
            "type": "scattercarpet"
           }
          ],
          "scattergeo": [
           {
            "marker": {
             "colorbar": {
              "outlinewidth": 0,
              "ticks": ""
             }
            },
            "type": "scattergeo"
           }
          ],
          "scattergl": [
           {
            "marker": {
             "colorbar": {
              "outlinewidth": 0,
              "ticks": ""
             }
            },
            "type": "scattergl"
           }
          ],
          "scattermapbox": [
           {
            "marker": {
             "colorbar": {
              "outlinewidth": 0,
              "ticks": ""
             }
            },
            "type": "scattermapbox"
           }
          ],
          "scatterpolar": [
           {
            "marker": {
             "colorbar": {
              "outlinewidth": 0,
              "ticks": ""
             }
            },
            "type": "scatterpolar"
           }
          ],
          "scatterpolargl": [
           {
            "marker": {
             "colorbar": {
              "outlinewidth": 0,
              "ticks": ""
             }
            },
            "type": "scatterpolargl"
           }
          ],
          "scatterternary": [
           {
            "marker": {
             "colorbar": {
              "outlinewidth": 0,
              "ticks": ""
             }
            },
            "type": "scatterternary"
           }
          ],
          "surface": [
           {
            "colorbar": {
             "outlinewidth": 0,
             "ticks": ""
            },
            "colorscale": [
             [
              0,
              "#0d0887"
             ],
             [
              0.1111111111111111,
              "#46039f"
             ],
             [
              0.2222222222222222,
              "#7201a8"
             ],
             [
              0.3333333333333333,
              "#9c179e"
             ],
             [
              0.4444444444444444,
              "#bd3786"
             ],
             [
              0.5555555555555556,
              "#d8576b"
             ],
             [
              0.6666666666666666,
              "#ed7953"
             ],
             [
              0.7777777777777778,
              "#fb9f3a"
             ],
             [
              0.8888888888888888,
              "#fdca26"
             ],
             [
              1,
              "#f0f921"
             ]
            ],
            "type": "surface"
           }
          ],
          "table": [
           {
            "cells": {
             "fill": {
              "color": "#EBF0F8"
             },
             "line": {
              "color": "white"
             }
            },
            "header": {
             "fill": {
              "color": "#C8D4E3"
             },
             "line": {
              "color": "white"
             }
            },
            "type": "table"
           }
          ]
         },
         "layout": {
          "annotationdefaults": {
           "arrowcolor": "#2a3f5f",
           "arrowhead": 0,
           "arrowwidth": 1
          },
          "autotypenumbers": "strict",
          "coloraxis": {
           "colorbar": {
            "outlinewidth": 0,
            "ticks": ""
           }
          },
          "colorscale": {
           "diverging": [
            [
             0,
             "#8e0152"
            ],
            [
             0.1,
             "#c51b7d"
            ],
            [
             0.2,
             "#de77ae"
            ],
            [
             0.3,
             "#f1b6da"
            ],
            [
             0.4,
             "#fde0ef"
            ],
            [
             0.5,
             "#f7f7f7"
            ],
            [
             0.6,
             "#e6f5d0"
            ],
            [
             0.7,
             "#b8e186"
            ],
            [
             0.8,
             "#7fbc41"
            ],
            [
             0.9,
             "#4d9221"
            ],
            [
             1,
             "#276419"
            ]
           ],
           "sequential": [
            [
             0,
             "#0d0887"
            ],
            [
             0.1111111111111111,
             "#46039f"
            ],
            [
             0.2222222222222222,
             "#7201a8"
            ],
            [
             0.3333333333333333,
             "#9c179e"
            ],
            [
             0.4444444444444444,
             "#bd3786"
            ],
            [
             0.5555555555555556,
             "#d8576b"
            ],
            [
             0.6666666666666666,
             "#ed7953"
            ],
            [
             0.7777777777777778,
             "#fb9f3a"
            ],
            [
             0.8888888888888888,
             "#fdca26"
            ],
            [
             1,
             "#f0f921"
            ]
           ],
           "sequentialminus": [
            [
             0,
             "#0d0887"
            ],
            [
             0.1111111111111111,
             "#46039f"
            ],
            [
             0.2222222222222222,
             "#7201a8"
            ],
            [
             0.3333333333333333,
             "#9c179e"
            ],
            [
             0.4444444444444444,
             "#bd3786"
            ],
            [
             0.5555555555555556,
             "#d8576b"
            ],
            [
             0.6666666666666666,
             "#ed7953"
            ],
            [
             0.7777777777777778,
             "#fb9f3a"
            ],
            [
             0.8888888888888888,
             "#fdca26"
            ],
            [
             1,
             "#f0f921"
            ]
           ]
          },
          "colorway": [
           "#636efa",
           "#EF553B",
           "#00cc96",
           "#ab63fa",
           "#FFA15A",
           "#19d3f3",
           "#FF6692",
           "#B6E880",
           "#FF97FF",
           "#FECB52"
          ],
          "font": {
           "color": "#2a3f5f"
          },
          "geo": {
           "bgcolor": "white",
           "lakecolor": "white",
           "landcolor": "#E5ECF6",
           "showlakes": true,
           "showland": true,
           "subunitcolor": "white"
          },
          "hoverlabel": {
           "align": "left"
          },
          "hovermode": "closest",
          "mapbox": {
           "style": "light"
          },
          "paper_bgcolor": "white",
          "plot_bgcolor": "#E5ECF6",
          "polar": {
           "angularaxis": {
            "gridcolor": "white",
            "linecolor": "white",
            "ticks": ""
           },
           "bgcolor": "#E5ECF6",
           "radialaxis": {
            "gridcolor": "white",
            "linecolor": "white",
            "ticks": ""
           }
          },
          "scene": {
           "xaxis": {
            "backgroundcolor": "#E5ECF6",
            "gridcolor": "white",
            "gridwidth": 2,
            "linecolor": "white",
            "showbackground": true,
            "ticks": "",
            "zerolinecolor": "white"
           },
           "yaxis": {
            "backgroundcolor": "#E5ECF6",
            "gridcolor": "white",
            "gridwidth": 2,
            "linecolor": "white",
            "showbackground": true,
            "ticks": "",
            "zerolinecolor": "white"
           },
           "zaxis": {
            "backgroundcolor": "#E5ECF6",
            "gridcolor": "white",
            "gridwidth": 2,
            "linecolor": "white",
            "showbackground": true,
            "ticks": "",
            "zerolinecolor": "white"
           }
          },
          "shapedefaults": {
           "line": {
            "color": "#2a3f5f"
           }
          },
          "ternary": {
           "aaxis": {
            "gridcolor": "white",
            "linecolor": "white",
            "ticks": ""
           },
           "baxis": {
            "gridcolor": "white",
            "linecolor": "white",
            "ticks": ""
           },
           "bgcolor": "#E5ECF6",
           "caxis": {
            "gridcolor": "white",
            "linecolor": "white",
            "ticks": ""
           }
          },
          "title": {
           "x": 0.05
          },
          "xaxis": {
           "automargin": true,
           "gridcolor": "white",
           "linecolor": "white",
           "ticks": "",
           "title": {
            "standoff": 15
           },
           "zerolinecolor": "white",
           "zerolinewidth": 2
          },
          "yaxis": {
           "automargin": true,
           "gridcolor": "white",
           "linecolor": "white",
           "ticks": "",
           "title": {
            "standoff": 15
           },
           "zerolinecolor": "white",
           "zerolinewidth": 2
          }
         }
        },
        "title": {
         "text": "Parallel Coordinate Plot"
        }
       }
      }
     },
     "metadata": {},
     "output_type": "display_data"
    }
   ],
   "source": [
    "optuna.visualization.plot_parallel_coordinate(study)"
   ]
  },
  {
   "cell_type": "code",
   "execution_count": 27,
   "id": "c299117d",
   "metadata": {},
   "outputs": [
    {
     "data": {
      "text/plain": [
       "{'n_estimators': 600,\n",
       " 'learning_rate': 0.3855938611994342,\n",
       " 'max_depth': 7,\n",
       " 'subsample': 0.5,\n",
       " 'bagging_fraction': 0.7,\n",
       " 'feature_fraction': 0.7}"
      ]
     },
     "execution_count": 27,
     "metadata": {},
     "output_type": "execute_result"
    }
   ],
   "source": [
    "best_params = study.best_params\n",
    "best_params"
   ]
  },
  {
   "cell_type": "code",
   "execution_count": 28,
   "id": "b9e0a11d",
   "metadata": {},
   "outputs": [],
   "source": [
    "scoring='roc_auc_score'\n",
    "n_repeat=5\n",
    "cv = 5\n",
    "cvGen = KFold(n_splits=cv)\n",
    "clf = lgb.LGBMClassifier(verbose=-1 , **best_params)"
   ]
  },
  {
   "cell_type": "code",
   "execution_count": 29,
   "id": "97e2ed5e",
   "metadata": {},
   "outputs": [
    {
     "name": "stdout",
     "output_type": "stream",
     "text": [
      "Permutation Importance Fold 0\n",
      "Permutation Importance Fold 1\n",
      "Permutation Importance Fold 2\n",
      "Permutation Importance Fold 3\n",
      "Permutation Importance Fold 4\n"
     ]
    }
   ],
   "source": [
    "results = []\n",
    "for i,(train,test) in enumerate(cvGen.split(X=X_train)):\n",
    "    res = permutation_importance(clf, X, y, i, train, test, scoring=scoring, n_repeats=n_repeat,\n",
    "                                 n_jobs=None, random_state=None)\n",
    "    results.append(res)"
   ]
  },
  {
   "cell_type": "code",
   "execution_count": 30,
   "id": "aeccc07f",
   "metadata": {},
   "outputs": [],
   "source": [
    "def importance(permuation_results, scoring='neg_log_loss'):\n",
    "    scr0 = pd.Series([j[1] for j in results])\n",
    "    scr1 = pd.DataFrame([j[2] for j in results], columns = X.columns)\n",
    "    imp=(-scr1).add(scr0,axis=0)\n",
    "    \n",
    "    if scoring == 'neg_log_loss':\n",
    "        imp = imp / -scr1\n",
    "    else:\n",
    "        imp=imp/(1.-scr1)\n",
    "\n",
    "    imp = imp.replace({0.0:np.nan})\n",
    "    imp_df=pd.concat({'mean':imp.mean(),'std':imp.std()*imp.shape[0]**-.5, 'median':imp.median()},axis=1)\n",
    "    imp = {'df': imp_df, 'all': imp}\n",
    "    \n",
    "    return imp"
   ]
  },
  {
   "cell_type": "code",
   "execution_count": 31,
   "id": "01e1ea3d",
   "metadata": {},
   "outputs": [],
   "source": [
    "def plotMDA(imp):\n",
    "    fig = plt.figure()\n",
    "    \n",
    "    mda_threshold = 0\n",
    "    imp = imp.sort_values('mean', ascending=True)\n",
    "    i = 0\n",
    "    \n",
    "    for r in imp.iterrows():\n",
    "        data = r[1][:-2]\n",
    "        data_mean = r[1]['mean']\n",
    "        data_median = r[1]['median']\n",
    "        plt.scatter(data, [i] * len(data), marker='|', color='black')\n",
    "        plt.scatter(data_mean, i, marker='.', color='red' if data_mean < 0 else 'green')\n",
    "        i = i + 1\n",
    "        \n",
    "    plt.axvline(mda_threshold, color='gray')\n",
    "    plt.show()"
   ]
  },
  {
   "cell_type": "code",
   "execution_count": 32,
   "id": "eb09fda1",
   "metadata": {},
   "outputs": [
    {
     "data": {
      "text/html": [
       "<div>\n",
       "<style scoped>\n",
       "    .dataframe tbody tr th:only-of-type {\n",
       "        vertical-align: middle;\n",
       "    }\n",
       "\n",
       "    .dataframe tbody tr th {\n",
       "        vertical-align: top;\n",
       "    }\n",
       "\n",
       "    .dataframe thead th {\n",
       "        text-align: right;\n",
       "    }\n",
       "</style>\n",
       "<table border=\"1\" class=\"dataframe\">\n",
       "  <thead>\n",
       "    <tr style=\"text-align: right;\">\n",
       "      <th></th>\n",
       "      <th>mean</th>\n",
       "      <th>std</th>\n",
       "      <th>median</th>\n",
       "    </tr>\n",
       "  </thead>\n",
       "  <tbody>\n",
       "    <tr>\n",
       "      <th>ac_180</th>\n",
       "      <td>0.010873</td>\n",
       "      <td>0.003723</td>\n",
       "      <td>0.012425</td>\n",
       "    </tr>\n",
       "    <tr>\n",
       "      <th>sr_30</th>\n",
       "      <td>0.008622</td>\n",
       "      <td>0.001904</td>\n",
       "      <td>0.008243</td>\n",
       "    </tr>\n",
       "    <tr>\n",
       "      <th>mom_210</th>\n",
       "      <td>0.007926</td>\n",
       "      <td>0.004769</td>\n",
       "      <td>0.009974</td>\n",
       "    </tr>\n",
       "    <tr>\n",
       "      <th>rsi_20</th>\n",
       "      <td>0.007652</td>\n",
       "      <td>0.001786</td>\n",
       "      <td>0.007518</td>\n",
       "    </tr>\n",
       "    <tr>\n",
       "      <th>rsi_150</th>\n",
       "      <td>0.006383</td>\n",
       "      <td>0.004575</td>\n",
       "      <td>0.004597</td>\n",
       "    </tr>\n",
       "    <tr>\n",
       "      <th>...</th>\n",
       "      <td>...</td>\n",
       "      <td>...</td>\n",
       "      <td>...</td>\n",
       "    </tr>\n",
       "    <tr>\n",
       "      <th>ac_120</th>\n",
       "      <td>-0.010185</td>\n",
       "      <td>0.012144</td>\n",
       "      <td>0.004657</td>\n",
       "    </tr>\n",
       "    <tr>\n",
       "      <th>trend_180</th>\n",
       "      <td>-0.010726</td>\n",
       "      <td>0.008827</td>\n",
       "      <td>-0.004578</td>\n",
       "    </tr>\n",
       "    <tr>\n",
       "      <th>trend_150</th>\n",
       "      <td>-0.013891</td>\n",
       "      <td>0.006768</td>\n",
       "      <td>-0.012765</td>\n",
       "    </tr>\n",
       "    <tr>\n",
       "      <th>rsi_120</th>\n",
       "      <td>-0.016104</td>\n",
       "      <td>0.007199</td>\n",
       "      <td>-0.012946</td>\n",
       "    </tr>\n",
       "    <tr>\n",
       "      <th>trend_120</th>\n",
       "      <td>-0.023412</td>\n",
       "      <td>0.017939</td>\n",
       "      <td>-0.008984</td>\n",
       "    </tr>\n",
       "  </tbody>\n",
       "</table>\n",
       "<p>77 rows × 3 columns</p>\n",
       "</div>"
      ],
      "text/plain": [
       "               mean       std    median\n",
       "ac_180     0.010873  0.003723  0.012425\n",
       "sr_30      0.008622  0.001904  0.008243\n",
       "mom_210    0.007926  0.004769  0.009974\n",
       "rsi_20     0.007652  0.001786  0.007518\n",
       "rsi_150    0.006383  0.004575  0.004597\n",
       "...             ...       ...       ...\n",
       "ac_120    -0.010185  0.012144  0.004657\n",
       "trend_180 -0.010726  0.008827 -0.004578\n",
       "trend_150 -0.013891  0.006768 -0.012765\n",
       "rsi_120   -0.016104  0.007199 -0.012946\n",
       "trend_120 -0.023412  0.017939 -0.008984\n",
       "\n",
       "[77 rows x 3 columns]"
      ]
     },
     "execution_count": 32,
     "metadata": {},
     "output_type": "execute_result"
    }
   ],
   "source": [
    "imp = importance(results, scoring=scoring)\n",
    "imp['df'].sort_values('mean', ascending=False)"
   ]
  },
  {
   "cell_type": "code",
   "execution_count": 33,
   "id": "d33ac318",
   "metadata": {},
   "outputs": [
    {
     "data": {
      "image/png": "[encoded data removed]",
      "text/plain": [
       "<Figure size 640x480 with 1 Axes>"
      ]
     },
     "metadata": {},
     "output_type": "display_data"
    }
   ],
   "source": [
    "plt.hist(imp['df']['mean'], bins=20)\n",
    "plt.title('Permutation Importances Distribution')\n",
    "plt.show()"
   ]
  },
  {
   "cell_type": "code",
   "execution_count": 34,
   "id": "f66d1711",
   "metadata": {},
   "outputs": [],
   "source": [
    "from scipy import stats\n",
    "stats.probplot(imp['df']['mean'])\n",
    "plt.show()"
   ]
  },
  {
   "cell_type": "code",
   "execution_count": 35,
   "id": "a80c17a9",
   "metadata": {},
   "outputs": [
    {
     "data": {
      "image/png": "[encoded data removed]",
      "text/plain": [
       "<Figure size 640x480 with 1 Axes>"
      ]
     },
     "metadata": {},
     "output_type": "display_data"
    }
   ],
   "source": [
    "plotMDA(imp['df'])"
   ]
  },
  {
   "cell_type": "code",
   "execution_count": 36,
   "metadata": {},
   "outputs": [
    {
     "data": {
      "text/html": [
       "<div>\n",
       "<style scoped>\n",
       "    .dataframe tbody tr th:only-of-type {\n",
       "        vertical-align: middle;\n",
       "    }\n",
       "\n",
       "    .dataframe tbody tr th {\n",
       "        vertical-align: top;\n",
       "    }\n",
       "\n",
       "    .dataframe thead th {\n",
       "        text-align: right;\n",
       "    }\n",
       "</style>\n",
       "<table border=\"1\" class=\"dataframe\">\n",
       "  <thead>\n",
       "    <tr style=\"text-align: right;\">\n",
       "      <th></th>\n",
       "      <th>mean</th>\n",
       "      <th>std</th>\n",
       "      <th>median</th>\n",
       "    </tr>\n",
       "  </thead>\n",
       "  <tbody>\n",
       "    <tr>\n",
       "      <th>trend_120</th>\n",
       "      <td>-0.023412</td>\n",
       "      <td>0.017939</td>\n",
       "      <td>-0.008984</td>\n",
       "    </tr>\n",
       "    <tr>\n",
       "      <th>rsi_120</th>\n",
       "      <td>-0.016104</td>\n",
       "      <td>0.007199</td>\n",
       "      <td>-0.012946</td>\n",
       "    </tr>\n",
       "    <tr>\n",
       "      <th>trend_150</th>\n",
       "      <td>-0.013891</td>\n",
       "      <td>0.006768</td>\n",
       "      <td>-0.012765</td>\n",
       "    </tr>\n",
       "    <tr>\n",
       "      <th>trend_180</th>\n",
       "      <td>-0.010726</td>\n",
       "      <td>0.008827</td>\n",
       "      <td>-0.004578</td>\n",
       "    </tr>\n",
       "    <tr>\n",
       "      <th>ac_120</th>\n",
       "      <td>-0.010185</td>\n",
       "      <td>0.012144</td>\n",
       "      <td>0.004657</td>\n",
       "    </tr>\n",
       "    <tr>\n",
       "      <th>...</th>\n",
       "      <td>...</td>\n",
       "      <td>...</td>\n",
       "      <td>...</td>\n",
       "    </tr>\n",
       "    <tr>\n",
       "      <th>rsi_150</th>\n",
       "      <td>0.006383</td>\n",
       "      <td>0.004575</td>\n",
       "      <td>0.004597</td>\n",
       "    </tr>\n",
       "    <tr>\n",
       "      <th>rsi_20</th>\n",
       "      <td>0.007652</td>\n",
       "      <td>0.001786</td>\n",
       "      <td>0.007518</td>\n",
       "    </tr>\n",
       "    <tr>\n",
       "      <th>mom_210</th>\n",
       "      <td>0.007926</td>\n",
       "      <td>0.004769</td>\n",
       "      <td>0.009974</td>\n",
       "    </tr>\n",
       "    <tr>\n",
       "      <th>sr_30</th>\n",
       "      <td>0.008622</td>\n",
       "      <td>0.001904</td>\n",
       "      <td>0.008243</td>\n",
       "    </tr>\n",
       "    <tr>\n",
       "      <th>ac_180</th>\n",
       "      <td>0.010873</td>\n",
       "      <td>0.003723</td>\n",
       "      <td>0.012425</td>\n",
       "    </tr>\n",
       "  </tbody>\n",
       "</table>\n",
       "<p>77 rows × 3 columns</p>\n",
       "</div>"
      ],
      "text/plain": [
       "               mean       std    median\n",
       "trend_120 -0.023412  0.017939 -0.008984\n",
       "rsi_120   -0.016104  0.007199 -0.012946\n",
       "trend_150 -0.013891  0.006768 -0.012765\n",
       "trend_180 -0.010726  0.008827 -0.004578\n",
       "ac_120    -0.010185  0.012144  0.004657\n",
       "...             ...       ...       ...\n",
       "rsi_150    0.006383  0.004575  0.004597\n",
       "rsi_20     0.007652  0.001786  0.007518\n",
       "mom_210    0.007926  0.004769  0.009974\n",
       "sr_30      0.008622  0.001904  0.008243\n",
       "ac_180     0.010873  0.003723  0.012425\n",
       "\n",
       "[77 rows x 3 columns]"
      ]
     },
     "execution_count": 36,
     "metadata": {},
     "output_type": "execute_result"
    }
   ],
   "source": [
    "imp['df'].sort_values('mean', ascending=True)"
   ]
  },
  {
   "cell_type": "code",
   "execution_count": 37,
   "metadata": {},
   "outputs": [
    {
     "data": {
      "text/plain": [
       "Index(['vol_5', 'sr_5', 'vol_10', 'rsi_10', 'mom_10', 'ac_10', 'cp_10',\n",
       "       'vol_20', 'sr_20', 'rsi_20', 'mom_20', 'ac_20', 'vol_30', 'sr_30',\n",
       "       'trend_30', 'cp_30', 'vol_60', 'sr_60', 'mom_60', 'ac_60', 'cp_60',\n",
       "       'vol_90', 'mom_90', 'cp_90', 'vol_120', 'sr_120', 'vol_150', 'sr_150',\n",
       "       'rsi_150', 'ac_150', 'vol_180', 'ac_180', 'vol_210', 'sr_210',\n",
       "       'mom_210', 'trend_210', 'cp_210', 'vol_240', 'sr_240', 'mom_240',\n",
       "       'trend_240', 'cp_240'],\n",
       "      dtype='object')"
      ]
     },
     "execution_count": 37,
     "metadata": {},
     "output_type": "execute_result"
    }
   ],
   "source": [
    "filtered_features = imp['df'][imp['df']['mean'] > 0].index\n",
    "filtered_features"
   ]
  },
  {
   "cell_type": "code",
   "execution_count": 38,
   "id": "916b2d04",
   "metadata": {},
   "outputs": [],
   "source": [
    "# Evaluate\n",
    "from sklearn import metrics\n",
    "\n",
    "def matrix_eval(clf, X_train, y_train, y_test, X_test, features = False):\n",
    "    \n",
    "    if features:\n",
    "        print(f'Features: {features}')\n",
    "        X_train = X_train[filtered_features]\n",
    "        X_test = X_test[filtered_features]\n",
    "        \n",
    "    clf.fit(X_train, y_train)\n",
    "    y_pred_proba = clf.predict_proba(X_test)[::,1]\n",
    "    fpr, tpr, _ = metrics.roc_curve(y_test,  y_pred_proba)\n",
    "    auc = metrics.roc_auc_score(y_test, y_pred_proba)\n",
    "    \n",
    "    return fpr, tpr, auc, y_pred_proba"
   ]
  },
  {
   "cell_type": "code",
   "execution_count": 39,
   "metadata": {},
   "outputs": [
    {
     "name": "stdout",
     "output_type": "stream",
     "text": [
      "Features: True\n"
     ]
    },
    {
     "data": {
      "image/png": "[encoded data removed]",
      "text/plain": [
       "<Figure size 640x480 with 1 Axes>"
      ]
     },
     "metadata": {},
     "output_type": "display_data"
    }
   ],
   "source": [
    "clf = lgb.LGBMClassifier(verbose=-1, **best_params)\n",
    "\n",
    "fig, ax = plt.subplots()\n",
    "for name, feats in zip(['all', 'filtered'], [False, True]):\n",
    "    fpr, tpr, auc, y_pred_proba = matrix_eval(clf, X_train, y_train, y_test, X_test, feats)\n",
    "    ax.plot(fpr,tpr,label=f\"{name} features, auc= {auc:.2f}\")\n",
    "plt.plot([0, 1], [0, 1],'r--')\n",
    "plt.xlim([0, 1])\n",
    "plt.ylim([0, 1])\n",
    "plt.ylabel('True Positive Rate')\n",
    "plt.xlabel('False Positive Rate')\n",
    "plt.legend(loc=4)\n",
    "plt.show()"
   ]
  },
  {
   "cell_type": "code",
   "execution_count": 40,
   "id": "ec555761",
   "metadata": {},
   "outputs": [],
   "source": [
    "df_plot = df[['Close', 'side']].copy()\n",
    "df_plot = df_plot.loc[y_test.index]\n",
    "df_plot['pred'] = pd.Series((y_pred_proba-0.5)*2, index= y_test.index)"
   ]
  },
  {
   "cell_type": "code",
   "execution_count": 41,
   "id": "9a4ceb67",
   "metadata": {},
   "outputs": [
    {
     "data": {
      "text/plain": [
       "[<matplotlib.lines.Line2D at 0x20e6cace110>]"
      ]
     },
     "execution_count": 41,
     "metadata": {},
     "output_type": "execute_result"
    },
    {
     "data": {
      "image/png": "[encoded data removed]",
      "text/plain": [
       "<Figure size 1200x1200 with 2 Axes>"
      ]
     },
     "metadata": {},
     "output_type": "display_data"
    }
   ],
   "source": [
    "fig, ax = plt.subplots(nrows=2, figsize=(12,12))\n",
    "ax[0].plot(df_plot['Close'], color='black')\n",
    "ax[0].fill_between(df_plot.index, df_plot['Close'].min(), df_plot['Close'].max(),where=df_plot['pred']>0, color='green', alpha=0.3)\n",
    "ax[0].fill_between(df_plot.index, df_plot['Close'].min(), df_plot['Close'].max(),where=df_plot['pred']<0, color='red', alpha=0.3)\n",
    "ax[1].plot(df_plot['pred'], color='red')"
   ]
  },
  {
   "cell_type": "code",
   "execution_count": null,
   "id": "d732d1e3",
   "metadata": {},
   "outputs": [],
   "source": []
  }
 ],
 "metadata": {
  "celltoolbar": "Tags",
  "kernelspec": {
   "display_name": "base",
   "language": "python",
   "name": "python3"
  },
  "language_info": {
   "codemirror_mode": {
    "name": "ipython",
    "version": 3
   },
   "file_extension": ".py",
   "mimetype": "text/x-python",
   "name": "python",
   "nbconvert_exporter": "python",
   "pygments_lexer": "ipython3",
   "version": "3.11.5"
  }
 },
 "nbformat": 4,
 "nbformat_minor": 5
}
